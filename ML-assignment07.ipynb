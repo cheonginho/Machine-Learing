{
 "cells": [
  {
   "cell_type": "markdown",
   "metadata": {},
   "source": [
    "## Plot the training data"
   ]
  },
  {
   "cell_type": "code",
   "execution_count": 330,
   "metadata": {},
   "outputs": [
    {
     "data": {
      "image/png": "[encoded data removed]",
      "text/plain": [
       "<Figure size 432x288 with 1 Axes>"
      ]
     },
     "metadata": {
      "needs_background": "light"
     },
     "output_type": "display_data"
    }
   ],
   "source": [
    "import numpy as np\n",
    "import matplotlib.pyplot as plt\n",
    "import matplotlib.pyplot as pp\n",
    "%matplotlib inline\n",
    "\n",
    "\n",
    "data    = np.genfromtxt(\"data-nonlinear.txt\", delimiter=',')\n",
    "\n",
    "pointX  = data[:, 0]\n",
    "pointY  = data[:, 1]\n",
    "label   = data[:, 2]\n",
    "\n",
    "pointX0 = pointX[label == 0]\n",
    "pointY0 = pointY[label == 0]\n",
    "\n",
    "pointX1 = pointX[label == 1]\n",
    "pointY1 = pointY[label == 1]\n",
    "\n",
    "plt.figure()\n",
    "plt.scatter(pointX0, pointY0, c='b')\n",
    "plt.scatter(pointX1, pointY1, c='r')\n",
    "plt.tight_layout()\n",
    "plt.gca().set_aspect('equal', adjustable='box')\n",
    "plt.show()\n"
   ]
  },
  {
   "cell_type": "markdown",
   "metadata": {},
   "source": [
    "## Plot the training error with varying regularization parameters "
   ]
  },
  {
   "cell_type": "code",
   "execution_count": 144,
   "metadata": {},
   "outputs": [],
   "source": [
    "degree = 9\n",
    "iteration = 2000\n",
    "alpha =0.1\n",
    "m = label.size\n",
    "# np.random.seed(777)\n",
    "# theta = np.random.normal(100)"
   ]
  },
  {
   "cell_type": "code",
   "execution_count": 145,
   "metadata": {},
   "outputs": [],
   "source": [
    "def high_dimension(x,y,degree):\n",
    "    basic = np.ones(x.shape[0])\n",
    "    for i in range(1,degree+1):\n",
    "        for j in range(0,i+1):\n",
    "            basic = np.column_stack((basic,(x**(i-j))*(y**j)))\n",
    "    return basic"
   ]
  },
  {
   "cell_type": "code",
   "execution_count": 146,
   "metadata": {},
   "outputs": [],
   "source": [
    "def sigmoid(z):\n",
    "    return 1 / (1+np.exp(-z))"
   ]
  },
  {
   "cell_type": "code",
   "execution_count": 147,
   "metadata": {},
   "outputs": [],
   "source": [
    "def cost(theta,x,y,reg):\n",
    "    # data fidelity term\n",
    "    z = x.dot(theta)\n",
    "    h = sigmoid(z)\n",
    "    data_fi_term1 = y * np.log(h)\n",
    "    data_fi_term2 = (1-y) * np.log(1-h)\n",
    "    j = -np.sum(data_fi_term1 + data_fi_term2, axis = 0) / m\n",
    "    \n",
    "    #data regulization term\n",
    "    reg_term = (reg * np.sum(theta[1:]**2)) / (2*m)\n",
    "    j = j + reg_term\n",
    "    return j\n",
    "\n",
    "# set reg ramda"
   ]
  },
  {
   "cell_type": "code",
   "execution_count": 148,
   "metadata": {},
   "outputs": [],
   "source": [
    "x_parameters = high_dimension(pointX,pointY,degree)"
   ]
  },
  {
   "cell_type": "code",
   "execution_count": 149,
   "metadata": {},
   "outputs": [],
   "source": [
    "y = label"
   ]
  },
  {
   "cell_type": "code",
   "execution_count": 469,
   "metadata": {},
   "outputs": [
    {
     "data": {
      "text/plain": [
       "(118, 55)"
      ]
     },
     "execution_count": 469,
     "metadata": {},
     "output_type": "execute_result"
    }
   ],
   "source": [
    "x_parameters.shape"
   ]
  },
  {
   "cell_type": "code",
   "execution_count": 202,
   "metadata": {},
   "outputs": [],
   "source": [
    "init_theta = np.zeros(x_parameters.shape[1]).reshape(x_parameters.shape[1],1)"
   ]
  },
  {
   "cell_type": "code",
   "execution_count": 224,
   "metadata": {},
   "outputs": [
    {
     "data": {
      "text/plain": [
       "(55, 1)"
      ]
     },
     "execution_count": 224,
     "metadata": {},
     "output_type": "execute_result"
    }
   ],
   "source": [
    "init_theta.shape"
   ]
  },
  {
   "cell_type": "code",
   "execution_count": 437,
   "metadata": {},
   "outputs": [],
   "source": [
    "def gradient_descent(X,label,theta,iterations,alpha,reg):\n",
    "    cost_history=[]\n",
    "    theta_history=[theta]\n",
    "    accuracy_history=[]\n",
    "    for i in range(iterations):\n",
    "        prediction = np.dot(X,theta)\n",
    "        sig = sigmoid(prediction)\n",
    "        error = sig- label\n",
    "        accuracy_history.append(sig)\n",
    "        cost_history.append(cost(theta,X,label,reg))\n",
    "        theta = theta - (alpha*((1/m)*np.matmul(X.T,error)+(reg / m)*theta))\n",
    "        theta_history.append(theta)\n",
    "    return theta_history, cost_history , accuracy_history , reg"
   ]
  },
  {
   "cell_type": "code",
   "execution_count": 438,
   "metadata": {},
   "outputs": [],
   "source": [
    "theta_history01,cost_history01,accuracy_history01,reg_pa1 = gradient_descent(x_parameters,label,init_theta,iteration,alpha,1)\n",
    "theta_history02,cost_history02,accuracy_history02,reg_pa2 = gradient_descent(x_parameters,label,init_theta,iteration,alpha,2.2)\n",
    "theta_history03,cost_history03,accuracy_history03,reg_pa3 = gradient_descent(x_parameters,label,init_theta,iteration,alpha,2.9)"
   ]
  },
  {
   "cell_type": "code",
   "execution_count": 288,
   "metadata": {
    "scrolled": true
   },
   "outputs": [
    {
     "data": {
      "text/plain": [
       "236000"
      ]
     },
     "execution_count": 288,
     "metadata": {},
     "output_type": "execute_result"
    }
   ],
   "source": [
    "len(accuracy_history01)"
   ]
  },
  {
   "cell_type": "code",
   "execution_count": 154,
   "metadata": {},
   "outputs": [],
   "source": [
    "cost_history011 = []\n",
    "cost_history021 = [] \n",
    "cost_history031 = [] \n",
    "for i in range(iteration):\n",
    "    cost_history011.append(cost_history01[i][0])\n",
    "    cost_history021.append(cost_history02[i][0])\n",
    "    cost_history031.append(cost_history03[i][0])"
   ]
  },
  {
   "cell_type": "code",
   "execution_count": 155,
   "metadata": {},
   "outputs": [
    {
     "data": {
      "image/png": "[encoded data removed]",
      "text/plain": [
       "<Figure size 432x288 with 1 Axes>"
      ]
     },
     "metadata": {
      "needs_background": "light"
     },
     "output_type": "display_data"
    }
   ],
   "source": [
    "plt.title('Plot the error')\n",
    "plt.ylabel('J(theta)')\n",
    "plt.xlabel('No.iteration')\n",
    "plt.plot(cost_history011,c='r',label='over-fitting')\n",
    "plt.plot(cost_history021,c='g',label='just-right')\n",
    "plt.plot(cost_history031,c='b',label='under-fitting')\n",
    "plt.legend()\n",
    "plt.show()"
   ]
  },
  {
   "cell_type": "code",
   "execution_count": 122,
   "metadata": {},
   "outputs": [],
   "source": [
    "def prGreen(prt): print(\"\\033[92m {}\\033[00m\".format(prt))\n",
    "def prRed(prt): print(\"\\033[31m {}\\033[00m\".format(prt))\n",
    "def prBlue(prt): print(\"\\033[94m {}\\033[00m\".format(prt))"
   ]
  },
  {
   "cell_type": "code",
   "execution_count": 123,
   "metadata": {},
   "outputs": [
    {
     "name": "stdout",
     "output_type": "stream",
     "text": [
      "lambda01 :\n",
      "\u001b[31m 1\u001b[00m\n",
      "lambda02 :\n",
      "\u001b[92m 2.2\u001b[00m\n",
      "lambda03 :\n",
      "\u001b[94m 2.9\u001b[00m\n"
     ]
    }
   ],
   "source": [
    "print(\"lambda01 :\")\n",
    "prRed(reg_pa1)\n",
    "print(\"lambda02 :\")\n",
    "prGreen(reg_pa2)\n",
    "print(\"lambda03 :\")\n",
    "prBlue(reg_pa3)"
   ]
  },
  {
   "cell_type": "code",
   "execution_count": 269,
   "metadata": {},
   "outputs": [],
   "source": [
    "accuracy = []\n",
    "correct = 0\n",
    "for i in range(1,2000):\n",
    "    k = 0\n",
    "    correct=0\n",
    "    for j in range(118):\n",
    "        if(((accuracy_history01[i][j][k] <= 0.5) and (label[k] == 0)) and ((accuracy_history01[i][j][k] > 0.5) and (label[k] == 1))):\n",
    "            correct = correct + 1\n",
    "            k = k+1\n",
    "        else:\n",
    "            continue\n",
    "    accuracy.append(correct)\n",
    "    \n",
    "    "
   ]
  },
  {
   "cell_type": "code",
   "execution_count": null,
   "metadata": {},
   "outputs": [],
   "source": []
  },
  {
   "cell_type": "code",
   "execution_count": 318,
   "metadata": {},
   "outputs": [],
   "source": [
    "accuracy01 = []\n",
    "accuracy02 = []\n",
    "accuracy03 = []\n",
    "j =0\n",
    "for i in range(1,iteration):\n",
    "    a = accuracy_history01[i][0][0]\n",
    "    b = accuracy_history02[i][0][0]\n",
    "    c = accuracy_history03[i][0][0]\n",
    "    accuracy01.append(a)\n",
    "    accuracy02.append(b)\n",
    "    accuracy03.append(c)"
   ]
  },
  {
   "cell_type": "code",
   "execution_count": 325,
   "metadata": {},
   "outputs": [
    {
     "data": {
      "text/plain": [
       "<matplotlib.legend.Legend at 0x1c8b3bbcc88>"
      ]
     },
     "execution_count": 325,
     "metadata": {},
     "output_type": "execute_result"
    },
    {
     "data": {
      "image/png": "[encoded data removed]",
      "text/plain": [
       "<Figure size 432x288 with 1 Axes>"
      ]
     },
     "metadata": {
      "needs_background": "light"
     },
     "output_type": "display_data"
    }
   ],
   "source": [
    "plt.plot(accuracy01,c='b',label='over-fitting')\n",
    "plt.plot(accuracy02,c='g',label='just-right')\n",
    "plt.plot(accuracy03,c='r',label='under-fitting')\n",
    "plt.legend()"
   ]
  },
  {
   "cell_type": "code",
   "execution_count": 326,
   "metadata": {},
   "outputs": [
    {
     "name": "stdout",
     "output_type": "stream",
     "text": [
      "lambda01 :\n",
      "\u001b[31m 0.8771188783516805\u001b[00m\n",
      "lambda02 :\n",
      "\u001b[92m 0.8054272117830827\u001b[00m\n",
      "lambda03 :\n",
      "\u001b[94m 0.7761205780136586\u001b[00m\n"
     ]
    }
   ],
   "source": [
    "print(\"lambda01 :\")\n",
    "prRed(accuracy01[-1])\n",
    "print(\"lambda02 :\")\n",
    "prGreen(accuracy02[-1])\n",
    "print(\"lambda03 :\")\n",
    "prBlue(accuracy03[-1])"
   ]
  },
  {
   "cell_type": "code",
   "execution_count": 662,
   "metadata": {},
   "outputs": [],
   "source": [
    "def plotDecisionBoundary(x,y,theta,degree, axes,a):\n",
    "    u = np.linspace(x.min(), x.max(),50)\n",
    "    v = np.linspace(y.min(), y.max(),50)\n",
    "    U,V = np.meshgrid(u,v)\n",
    "    # convert U, V to vectors for calculating additional features\n",
    "    # using vectorized implementation\n",
    "    U = np.ravel(U)\n",
    "    V = np.ravel(V)\n",
    "    Z = np.zeros((len(u) * len(v)))\n",
    "    \n",
    "    X_poly = high_dimension(U,V,degree)\n",
    "    Z = X_poly.dot(theta)\n",
    "    \n",
    "    # reshape U, V, Z back to matrix\n",
    "    U = U.reshape((len(u), len(v)))\n",
    "    V = V.reshape((len(u), len(v)))\n",
    "    Z = Z.reshape((len(u), len(v)))\n",
    "    if(a == 1):\n",
    "        cs = axes.contour(U,V,Z,levels=3,colors='b',label='1')\n",
    "    elif(a == 2):\n",
    "        cs = axes.contour(U,V,Z,levels=2,colors='g',label='1')\n",
    "    else:\n",
    "        cs = axes.contour(U,V,Z,levels=1,colors='r',label='1')\n",
    "    axes.legend(labels=['good', 'faulty', 'Decision Boundary'])\n",
    "    return cs\n"
   ]
  },
  {
   "cell_type": "code",
   "execution_count": 663,
   "metadata": {},
   "outputs": [],
   "source": [
    "theta_recent01 = theta_history01[-1]\n",
    "theta_recent02 = theta_history02[-1]\n",
    "theta_recent03 = theta_history03[-1]\n",
    "theta_re=[]\n",
    "for i in range(55):\n",
    "    theta_re.append(theta_recent01[i][0])\n",
    "    \n",
    "theta_history01[1].shape\n",
    "\n",
    "new01 = []\n",
    "new02 = []\n",
    "new03 = []\n",
    "for i in range(55):\n",
    "    new01.append(theta_history01[-1][i][0])\n",
    "    new02.append(theta_history02[-1][i][0])\n",
    "    new03.append(theta_history03[-1][i][0])"
   ]
  },
  {
   "cell_type": "code",
   "execution_count": 664,
   "metadata": {
    "scrolled": true
   },
   "outputs": [
    {
     "name": "stderr",
     "output_type": "stream",
     "text": [
      "C:\\Users\\ihbor\\Anaconda3\\lib\\site-packages\\ipykernel_launcher.py:19: UserWarning: The following kwargs were not used by contour: 'label'\n",
      "C:\\Users\\ihbor\\Anaconda3\\lib\\site-packages\\ipykernel_launcher.py:21: UserWarning: The following kwargs were not used by contour: 'label'\n",
      "C:\\Users\\ihbor\\Anaconda3\\lib\\site-packages\\ipykernel_launcher.py:23: UserWarning: The following kwargs were not used by contour: 'label'\n",
      "No handles with labels found to put in legend.\n"
     ]
    },
    {
     "data": {
      "image/png": "[encoded data removed]",
      "text/plain": [
       "<Figure size 432x288 with 1 Axes>"
      ]
     },
     "metadata": {
      "needs_background": "light"
     },
     "output_type": "display_data"
    },
    {
     "data": {
      "image/png": "[encoded data removed]",
      "text/plain": [
       "<Figure size 432x288 with 1 Axes>"
      ]
     },
     "metadata": {
      "needs_background": "light"
     },
     "output_type": "display_data"
    }
   ],
   "source": [
    "fig, axes = pp.subplots();\n",
    "plt.figure()\n",
    "axes.scatter(pointX0, pointY0, c='b')\n",
    "axes.scatter(pointX1, pointY1, c='r')\n",
    "# axes.gca().set_aspect('equal', adjustable='box')\n",
    "cs1=plotDecisionBoundary(pointX,pointY,new01, degree, axes,1)\n",
    "cs2=plotDecisionBoundary(pointX,pointY,new02, degree, axes,2)\n",
    "cs3=plotDecisionBoundary(pointX,pointY,new03, degree, axes,3)\n",
    "plt.legend()\n",
    "plt.show()"
   ]
  },
  {
   "cell_type": "code",
   "execution_count": null,
   "metadata": {},
   "outputs": [],
   "source": []
  },
  {
   "cell_type": "code",
   "execution_count": 486,
   "metadata": {},
   "outputs": [
    {
     "data": {
      "text/plain": [
       "[3.101184319388812,\n",
       " 0.006443011886794304,\n",
       " 0.15270328712723696,\n",
       " 0.6609993531118857,\n",
       " -0.07998499799959626,\n",
       " 0.7003820396121658,\n",
       " 0.07786568097889515,\n",
       " 0.033627507755404275,\n",
       " 0.04081484848902719,\n",
       " 0.16323805282065648,\n",
       " 0.28436047207513493,\n",
       " -0.022300281741594388,\n",
       " 0.11309131657840893,\n",
       " -0.030518750164005865,\n",
       " 0.3017329206617631,\n",
       " 0.07321359555544317,\n",
       " 0.01382765700779467,\n",
       " 0.01907101586419513,\n",
       " 0.02346945703583794,\n",
       " 0.016539041701607776,\n",
       " 0.12207111113051367,\n",
       " 0.15926145333570785,\n",
       " -0.008385647193985104,\n",
       " 0.040828229916759835,\n",
       " -0.006672672941242954,\n",
       " 0.04173439697085814,\n",
       " -0.013885256777703437,\n",
       " 0.1701966341870659,\n",
       " 0.06420962798214032,\n",
       " 0.007228243263253073,\n",
       " 0.010945026042448585,\n",
       " 0.007417590494072966,\n",
       " 0.0069372103880461986,\n",
       " 0.014796254361432044,\n",
       " 0.005287855794475449,\n",
       " 0.09595656018503747,\n",
       " 0.10469396748529469,\n",
       " -0.0033168957000754037,\n",
       " 0.019362404463557185,\n",
       " -0.002090852093517792,\n",
       " 0.013396042895410456,\n",
       " -0.0023307966057953817,\n",
       " 0.02058241780129246,\n",
       " -0.007925853006231602,\n",
       " 0.11566588047196316,\n",
       " 0.056785543245358935,\n",
       " 0.004648282309780387,\n",
       " 0.007000282643952441,\n",
       " 0.002963517177086235,\n",
       " 0.003615117057622499,\n",
       " 0.004189790194869597,\n",
       " 0.0025944245662023195,\n",
       " 0.010233772998432264,\n",
       " 0.0006390547307892734,\n",
       " 0.08118093236165161]"
      ]
     },
     "execution_count": 486,
     "metadata": {},
     "output_type": "execute_result"
    }
   ],
   "source": [
    "new"
   ]
  },
  {
   "cell_type": "code",
   "execution_count": null,
   "metadata": {},
   "outputs": [],
   "source": []
  },
  {
   "cell_type": "code",
   "execution_count": null,
   "metadata": {},
   "outputs": [],
   "source": []
  },
  {
   "cell_type": "code",
   "execution_count": null,
   "metadata": {},
   "outputs": [],
   "source": []
  },
  {
   "cell_type": "code",
   "execution_count": null,
   "metadata": {},
   "outputs": [],
   "source": []
  },
  {
   "cell_type": "code",
   "execution_count": null,
   "metadata": {},
   "outputs": [],
   "source": []
  },
  {
   "cell_type": "code",
   "execution_count": null,
   "metadata": {},
   "outputs": [],
   "source": []
  },
  {
   "cell_type": "code",
   "execution_count": null,
   "metadata": {},
   "outputs": [],
   "source": []
  },
  {
   "cell_type": "code",
   "execution_count": null,
   "metadata": {},
   "outputs": [],
   "source": []
  },
  {
   "cell_type": "code",
   "execution_count": null,
   "metadata": {},
   "outputs": [],
   "source": []
  },
  {
   "cell_type": "code",
   "execution_count": null,
   "metadata": {},
   "outputs": [],
   "source": []
  },
  {
   "cell_type": "code",
   "execution_count": null,
   "metadata": {},
   "outputs": [],
   "source": []
  },
  {
   "cell_type": "code",
   "execution_count": null,
   "metadata": {},
   "outputs": [],
   "source": []
  },
  {
   "cell_type": "code",
   "execution_count": null,
   "metadata": {},
   "outputs": [],
   "source": []
  },
  {
   "cell_type": "code",
   "execution_count": null,
   "metadata": {},
   "outputs": [],
   "source": []
  },
  {
   "cell_type": "code",
   "execution_count": null,
   "metadata": {},
   "outputs": [],
   "source": []
  },
  {
   "cell_type": "code",
   "execution_count": null,
   "metadata": {},
   "outputs": [],
   "source": []
  },
  {
   "cell_type": "code",
   "execution_count": null,
   "metadata": {},
   "outputs": [],
   "source": []
  },
  {
   "cell_type": "code",
   "execution_count": null,
   "metadata": {},
   "outputs": [],
   "source": []
  },
  {
   "cell_type": "code",
   "execution_count": null,
   "metadata": {},
   "outputs": [],
   "source": []
  },
  {
   "cell_type": "code",
   "execution_count": null,
   "metadata": {},
   "outputs": [],
   "source": []
  },
  {
   "cell_type": "code",
   "execution_count": null,
   "metadata": {},
   "outputs": [],
   "source": []
  },
  {
   "cell_type": "code",
   "execution_count": null,
   "metadata": {},
   "outputs": [],
   "source": []
  },
  {
   "cell_type": "code",
   "execution_count": null,
   "metadata": {},
   "outputs": [],
   "source": []
  },
  {
   "cell_type": "code",
   "execution_count": null,
   "metadata": {},
   "outputs": [],
   "source": []
  },
  {
   "cell_type": "code",
   "execution_count": null,
   "metadata": {},
   "outputs": [],
   "source": []
  },
  {
   "cell_type": "code",
   "execution_count": 217,
   "metadata": {},
   "outputs": [],
   "source": [
    "# accuracy_history011 =[]\n",
    "# accuracy_history021 =[]\n",
    "# accuracy_history031 =[]\n",
    "# for i in range(iteration):\n",
    "#     accuracy_history011.append(cost_history01[i][0])\n",
    "#     accuracy_history021.append(cost_history02[i][0])\n",
    "#     accuracy_history031.append(cost_history03[i][0])\n",
    "# correct_history =[]\n",
    "# for i in range(1,2000):\n",
    "#     correct = 0\n",
    "#     non_c = 0\n",
    "#     for j in range(0,118):\n",
    "#         for k in range(0,118):\n",
    "#             if((accuracy_history01[i][j][k] <= 0.5) and (label[k] == 0)):\n",
    "#                 correct += 1\n",
    "#             elif((accuracy_history01[i][j][k] > 0.5) and (label[k] == 1)):\n",
    "#                 correct += 1\n",
    "#     correct_history.append(correct)"
   ]
  },
  {
   "cell_type": "code",
   "execution_count": null,
   "metadata": {},
   "outputs": [],
   "source": []
  },
  {
   "cell_type": "code",
   "execution_count": null,
   "metadata": {},
   "outputs": [],
   "source": []
  },
  {
   "cell_type": "code",
   "execution_count": null,
   "metadata": {},
   "outputs": [],
   "source": []
  },
  {
   "cell_type": "code",
   "execution_count": null,
   "metadata": {},
   "outputs": [],
   "source": []
  },
  {
   "cell_type": "code",
   "execution_count": null,
   "metadata": {},
   "outputs": [],
   "source": []
  },
  {
   "cell_type": "code",
   "execution_count": null,
   "metadata": {},
   "outputs": [],
   "source": []
  },
  {
   "cell_type": "code",
   "execution_count": null,
   "metadata": {},
   "outputs": [],
   "source": []
  },
  {
   "cell_type": "code",
   "execution_count": null,
   "metadata": {},
   "outputs": [],
   "source": []
  },
  {
   "cell_type": "code",
   "execution_count": null,
   "metadata": {},
   "outputs": [],
   "source": []
  },
  {
   "cell_type": "code",
   "execution_count": null,
   "metadata": {},
   "outputs": [],
   "source": []
  },
  {
   "cell_type": "code",
   "execution_count": null,
   "metadata": {},
   "outputs": [],
   "source": []
  },
  {
   "cell_type": "code",
   "execution_count": null,
   "metadata": {},
   "outputs": [],
   "source": []
  },
  {
   "cell_type": "code",
   "execution_count": null,
   "metadata": {},
   "outputs": [],
   "source": []
  },
  {
   "cell_type": "code",
   "execution_count": null,
   "metadata": {},
   "outputs": [],
   "source": []
  },
  {
   "cell_type": "code",
   "execution_count": null,
   "metadata": {},
   "outputs": [],
   "source": []
  },
  {
   "cell_type": "code",
   "execution_count": null,
   "metadata": {},
   "outputs": [],
   "source": []
  },
  {
   "cell_type": "code",
   "execution_count": null,
   "metadata": {},
   "outputs": [],
   "source": []
  },
  {
   "cell_type": "code",
   "execution_count": null,
   "metadata": {},
   "outputs": [],
   "source": []
  },
  {
   "cell_type": "code",
   "execution_count": null,
   "metadata": {},
   "outputs": [],
   "source": []
  },
  {
   "cell_type": "code",
   "execution_count": null,
   "metadata": {},
   "outputs": [],
   "source": []
  },
  {
   "cell_type": "code",
   "execution_count": null,
   "metadata": {},
   "outputs": [],
   "source": []
  },
  {
   "cell_type": "code",
   "execution_count": null,
   "metadata": {},
   "outputs": [],
   "source": []
  },
  {
   "cell_type": "code",
   "execution_count": null,
   "metadata": {},
   "outputs": [],
   "source": []
  },
  {
   "cell_type": "code",
   "execution_count": null,
   "metadata": {},
   "outputs": [],
   "source": []
  },
  {
   "cell_type": "code",
   "execution_count": null,
   "metadata": {},
   "outputs": [],
   "source": []
  },
  {
   "cell_type": "code",
   "execution_count": null,
   "metadata": {},
   "outputs": [],
   "source": []
  },
  {
   "cell_type": "code",
   "execution_count": null,
   "metadata": {},
   "outputs": [],
   "source": []
  },
  {
   "cell_type": "code",
   "execution_count": null,
   "metadata": {},
   "outputs": [],
   "source": []
  },
  {
   "cell_type": "code",
   "execution_count": null,
   "metadata": {},
   "outputs": [],
   "source": []
  },
  {
   "cell_type": "code",
   "execution_count": null,
   "metadata": {},
   "outputs": [],
   "source": []
  },
  {
   "cell_type": "code",
   "execution_count": null,
   "metadata": {},
   "outputs": [],
   "source": []
  },
  {
   "cell_type": "code",
   "execution_count": null,
   "metadata": {},
   "outputs": [],
   "source": []
  },
  {
   "cell_type": "code",
   "execution_count": null,
   "metadata": {},
   "outputs": [],
   "source": []
  },
  {
   "cell_type": "code",
   "execution_count": null,
   "metadata": {},
   "outputs": [],
   "source": []
  },
  {
   "cell_type": "code",
   "execution_count": null,
   "metadata": {},
   "outputs": [],
   "source": []
  },
  {
   "cell_type": "code",
   "execution_count": null,
   "metadata": {},
   "outputs": [],
   "source": []
  },
  {
   "cell_type": "code",
   "execution_count": null,
   "metadata": {},
   "outputs": [],
   "source": []
  },
  {
   "cell_type": "code",
   "execution_count": null,
   "metadata": {},
   "outputs": [],
   "source": []
  },
  {
   "cell_type": "code",
   "execution_count": null,
   "metadata": {},
   "outputs": [],
   "source": []
  },
  {
   "cell_type": "code",
   "execution_count": null,
   "metadata": {},
   "outputs": [],
   "source": []
  },
  {
   "cell_type": "code",
   "execution_count": null,
   "metadata": {},
   "outputs": [],
   "source": []
  },
  {
   "cell_type": "code",
   "execution_count": null,
   "metadata": {},
   "outputs": [],
   "source": []
  },
  {
   "cell_type": "code",
   "execution_count": null,
   "metadata": {},
   "outputs": [],
   "source": []
  },
  {
   "cell_type": "code",
   "execution_count": null,
   "metadata": {},
   "outputs": [],
   "source": []
  },
  {
   "cell_type": "code",
   "execution_count": null,
   "metadata": {},
   "outputs": [],
   "source": []
  },
  {
   "cell_type": "code",
   "execution_count": null,
   "metadata": {},
   "outputs": [],
   "source": []
  },
  {
   "cell_type": "code",
   "execution_count": null,
   "metadata": {},
   "outputs": [],
   "source": []
  },
  {
   "cell_type": "code",
   "execution_count": null,
   "metadata": {},
   "outputs": [],
   "source": []
  },
  {
   "cell_type": "code",
   "execution_count": null,
   "metadata": {},
   "outputs": [],
   "source": []
  },
  {
   "cell_type": "code",
   "execution_count": null,
   "metadata": {},
   "outputs": [],
   "source": []
  },
  {
   "cell_type": "code",
   "execution_count": null,
   "metadata": {},
   "outputs": [],
   "source": []
  },
  {
   "cell_type": "code",
   "execution_count": null,
   "metadata": {},
   "outputs": [],
   "source": []
  },
  {
   "cell_type": "code",
   "execution_count": null,
   "metadata": {},
   "outputs": [],
   "source": []
  },
  {
   "cell_type": "code",
   "execution_count": null,
   "metadata": {},
   "outputs": [],
   "source": []
  },
  {
   "cell_type": "code",
   "execution_count": null,
   "metadata": {},
   "outputs": [],
   "source": []
  },
  {
   "cell_type": "code",
   "execution_count": null,
   "metadata": {},
   "outputs": [],
   "source": []
  },
  {
   "cell_type": "code",
   "execution_count": null,
   "metadata": {},
   "outputs": [],
   "source": []
  },
  {
   "cell_type": "code",
   "execution_count": null,
   "metadata": {},
   "outputs": [],
   "source": []
  },
  {
   "cell_type": "code",
   "execution_count": null,
   "metadata": {},
   "outputs": [],
   "source": []
  },
  {
   "cell_type": "code",
   "execution_count": null,
   "metadata": {},
   "outputs": [],
   "source": []
  },
  {
   "cell_type": "code",
   "execution_count": null,
   "metadata": {},
   "outputs": [],
   "source": []
  },
  {
   "cell_type": "code",
   "execution_count": null,
   "metadata": {},
   "outputs": [],
   "source": []
  },
  {
   "cell_type": "code",
   "execution_count": null,
   "metadata": {},
   "outputs": [],
   "source": []
  },
  {
   "cell_type": "code",
   "execution_count": null,
   "metadata": {},
   "outputs": [],
   "source": []
  },
  {
   "cell_type": "code",
   "execution_count": null,
   "metadata": {},
   "outputs": [],
   "source": []
  },
  {
   "cell_type": "code",
   "execution_count": null,
   "metadata": {},
   "outputs": [],
   "source": []
  },
  {
   "cell_type": "code",
   "execution_count": null,
   "metadata": {},
   "outputs": [],
   "source": []
  }
 ],
 "metadata": {
  "kernelspec": {
   "display_name": "Python 3",
   "language": "python",
   "name": "python3"
  },
  "language_info": {
   "codemirror_mode": {
    "name": "ipython",
    "version": 3
   },
   "file_extension": ".py",
   "mimetype": "text/x-python",
   "name": "python",
   "nbconvert_exporter": "python",
   "pygments_lexer": "ipython3",
   "version": "3.7.6"
  }
 },
 "nbformat": 4,
 "nbformat_minor": 4
}
