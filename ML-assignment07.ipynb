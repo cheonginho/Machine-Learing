{
 "cells": [
  {
   "cell_type": "code",
   "execution_count": 65,
   "metadata": {},
   "outputs": [
    {
     "ename": "IndexError",
     "evalue": "list index out of range",
     "output_type": "error",
     "traceback": [
      "\u001b[1;31m---------------------------------------------------------------------------\u001b[0m",
      "\u001b[1;31mIndexError\u001b[0m                                Traceback (most recent call last)",
      "\u001b[1;32m<ipython-input-65-ef7ab2ed4c7c>\u001b[0m in \u001b[0;36m<module>\u001b[1;34m\u001b[0m\n\u001b[0;32m     82\u001b[0m \u001b[0mk\u001b[0m\u001b[1;33m=\u001b[0m\u001b[1;36m0\u001b[0m\u001b[1;33m\u001b[0m\u001b[1;33m\u001b[0m\u001b[0m\n\u001b[0;32m     83\u001b[0m \u001b[1;32mfor\u001b[0m \u001b[0mi\u001b[0m \u001b[1;32min\u001b[0m \u001b[0mrange\u001b[0m\u001b[1;33m(\u001b[0m\u001b[1;36m1\u001b[0m \u001b[1;33m,\u001b[0m\u001b[0miteration\u001b[0m\u001b[1;33m)\u001b[0m\u001b[1;33m:\u001b[0m\u001b[1;33m\u001b[0m\u001b[1;33m\u001b[0m\u001b[0m\n\u001b[1;32m---> 84\u001b[1;33m     \u001b[0mcost_history011\u001b[0m\u001b[1;33m.\u001b[0m\u001b[0mappend\u001b[0m\u001b[1;33m(\u001b[0m\u001b[0mcost_history01\u001b[0m\u001b[1;33m[\u001b[0m\u001b[0mi\u001b[0m\u001b[1;33m]\u001b[0m\u001b[1;33m[\u001b[0m\u001b[1;36m0\u001b[0m\u001b[1;33m]\u001b[0m\u001b[1;33m)\u001b[0m\u001b[1;33m\u001b[0m\u001b[1;33m\u001b[0m\u001b[0m\n\u001b[0m\u001b[0;32m     85\u001b[0m     \u001b[0mcost_history021\u001b[0m\u001b[1;33m.\u001b[0m\u001b[0mappend\u001b[0m\u001b[1;33m(\u001b[0m\u001b[0mcost_history02\u001b[0m\u001b[1;33m[\u001b[0m\u001b[0mi\u001b[0m\u001b[1;33m]\u001b[0m\u001b[1;33m[\u001b[0m\u001b[1;36m0\u001b[0m\u001b[1;33m]\u001b[0m\u001b[1;33m)\u001b[0m\u001b[1;33m\u001b[0m\u001b[1;33m\u001b[0m\u001b[0m\n\u001b[0;32m     86\u001b[0m     \u001b[0mcost_history031\u001b[0m\u001b[1;33m.\u001b[0m\u001b[0mappend\u001b[0m\u001b[1;33m(\u001b[0m\u001b[0mcost_history03\u001b[0m\u001b[1;33m[\u001b[0m\u001b[0mi\u001b[0m\u001b[1;33m]\u001b[0m\u001b[1;33m[\u001b[0m\u001b[1;36m0\u001b[0m\u001b[1;33m]\u001b[0m\u001b[1;33m)\u001b[0m\u001b[1;33m\u001b[0m\u001b[1;33m\u001b[0m\u001b[0m\n",
      "\u001b[1;31mIndexError\u001b[0m: list index out of range"
     ]
    }
   ],
   "source": [
    "import numpy as np\n",
    "import pandas as pd\n",
    "import matplotlib.pyplot as plt\n",
    "import matplotlib.pyplot as pp\n",
    "%matplotlib inline\n",
    "\n",
    "\n",
    "data    = np.genfromtxt(\"data-nonlinear.txt\", delimiter=',')\n",
    "df =  pd.read_csv(\"data-nonlinear.txt\")\n",
    "\n",
    "pointX  = data[:, 0]\n",
    "pointY  = data[:, 1]\n",
    "label   = data[:, 2]\n",
    "\n",
    "pointX0 = pointX[label == 0]\n",
    "pointY0 = pointY[label == 0]\n",
    "\n",
    "pointX1 = pointX[label == 1]\n",
    "pointY1 = pointY[label == 1]\n",
    "############################################################################설정\n",
    "degree = 9\n",
    "iteration = 2000\n",
    "alpha =1\n",
    "m = label.size\n",
    "np.random.seed(777)\n",
    "theta = np.random.rand(55)\n",
    "##########################################################################함수들\n",
    "def high_dimension(x,y):\n",
    "    degree = 9\n",
    "    basic = np.ones(x.shape[0])\n",
    "    for i in range(1,degree+1):\n",
    "        for j in range(0,i+1):\n",
    "            basic = np.column_stack((basic,(x**(i-j))*(y**j)))\n",
    "    return basic\n",
    "###\n",
    "def sigmoid(z):\n",
    "    return 1 / (1+np.exp(-z))\n",
    "###\n",
    "def cost(theta,x,y,reg):\n",
    "    # data fidelity term\n",
    "    z = x.dot(theta)\n",
    "    h = sigmoid(z)\n",
    "    data_fi_term1 = y * np.log(h)\n",
    "    data_fi_term2 = (1-y) * np.log(1-h)\n",
    "    j = -np.sum(data_fi_term1 + data_fi_term2, axis = 0) / m\n",
    "    \n",
    "    #data regulization term\n",
    "    reg_term = (reg * np.sum(theta[1:]**2)) / (2*m)\n",
    "    j = j + reg_term\n",
    "    return j\n",
    "\n",
    "# set reg ramda\n",
    "####################\n",
    "x_parameters = high_dimension(pointX,pointY)\n",
    "y = label\n",
    "###################################그라디언트\n",
    "def gradient_descent(X,label,theta,iterations,alpha,reg):\n",
    "    cost_history=[]\n",
    "    theta_history=[theta]\n",
    "    accuracy_history=[]\n",
    "    for i in range(1,iterations):\n",
    "        prediction = np.dot(X,theta)\n",
    "        sig = sigmoid(prediction)\n",
    "        error = sig- label\n",
    "        accuracy_history.append(sig)\n",
    "        cost_history.append(cost(theta,X,label,reg))\n",
    "        theta = theta - (alpha*((1/m)*np.matmul(X.T,error)+(reg / m)*theta))\n",
    "        theta_history.append(theta)\n",
    "    return theta_history, cost_history , accuracy_history , reg\n",
    "##############################################################################\n",
    "theta1 = np.c_[theta]\n",
    "theta1.shape\n",
    "\n",
    "\n",
    "theta_history01,cost_history01,accuracy_history01,reg_pa1 = gradient_descent(x_parameters,label,theta1,iteration,alpha,1)\n",
    "theta_history02,cost_history02,accuracy_history02,reg_pa2 = gradient_descent(x_parameters,label,theta1,iteration,alpha,2.2)\n",
    "theta_history03,cost_history03,accuracy_history03,reg_pa3 = gradient_descent(x_parameters,label,theta1,iteration,alpha,2.9)\n",
    "#########################################################################################\n",
    "cost_history011 = []\n",
    "cost_history021 = [] \n",
    "cost_history031 = [] \n",
    "k=0\n",
    "for i in range(1 ,iteration):\n",
    "    cost_history011.append(cost_history01[i][0])\n",
    "    cost_history021.append(cost_history02[i][0])\n",
    "    cost_history031.append(cost_history03[i][0])\n",
    "cost_history01[1998]\n",
    "###########################################################################################\n",
    "def prGreen(prt): print(\"\\033[92m {}\\033[00m\".format(prt))\n",
    "def prRed(prt): print(\"\\033[31m {}\\033[00m\".format(prt))\n",
    "def prBlue(prt): print(\"\\033[94m {}\\033[00m\".format(prt))\n",
    "#######################################################################################\n",
    "accuracy = []\n",
    "correct = 0\n",
    "for i in range(1,118):\n",
    "    k = 0\n",
    "    correct=0\n",
    "    for j in range(118):\n",
    "        if(((accuracy_history01[i][j][k] <= 0.5) and (label[k] == 0)) or ((accuracy_history01[i][j][k] > 0.5) and (label[k] == 1))):\n",
    "            correct = correct + 1\n",
    "            k = k+1\n",
    "        else:\n",
    "            continue\n",
    "    accuracy.append(correct)\n",
    "##############################################################################################\n",
    "accuracy01 = []\n",
    "accuracy02 = []\n",
    "accuracy03 = []\n",
    "j =0\n",
    "for i in range(1,iteration):\n",
    "    a = accuracy_history01[i][0][0]\n",
    "    b = accuracy_history02[i][0][0]\n",
    "    c = accuracy_history03[i][0][0]\n",
    "    accuracy01.append(a)\n",
    "    accuracy02.append(b)\n",
    "    accuracy03.append(c)\n",
    "####################################################################\n",
    "theta_recent01 = theta_history01[-1]\n",
    "theta_recent02 = theta_history02[-1]\n",
    "theta_recent03 = theta_history03[-1]\n",
    "theta_re=[]\n",
    "for i in range(55):\n",
    "    theta_re.append(theta_recent01[i][0])\n",
    "    \n",
    "theta_history01[1].shape\n",
    "\n",
    "new01 = []\n",
    "new02 = []\n",
    "new03 = []\n",
    "for i in range(55):\n",
    "    new01.append(theta_history01[-1][i][0])\n",
    "    new02.append(theta_history02[-1][i][0])\n",
    "    new03.append(theta_history03[-1][i][0])\n",
    "    #############################################################\n",
    "def plotDecisionBoundary(x,y,theta,degree, axes,a):\n",
    "    u = np.linspace(x.min(), x.max(),50)\n",
    "    v = np.linspace(y.min(), y.max(),50)\n",
    "    U,V = np.meshgrid(u,v)\n",
    "    # convert U, V to vectors for calculating additional features\n",
    "    # using vectorized implementation\n",
    "    U = np.ravel(U)\n",
    "    V = np.ravel(V)\n",
    "    Z = np.zeros((len(u) * len(v)))\n",
    "    \n",
    "    X_poly = high_dimension(U,V)\n",
    "    Z = X_poly.dot(theta)\n",
    "    \n",
    "    # reshape U, V, Z back to matrix\n",
    "    U = U.reshape((len(u), len(v)))\n",
    "    V = V.reshape((len(u), len(v)))\n",
    "    Z = Z.reshape((len(u), len(v)))\n",
    "    if(a == 1):\n",
    "        cs = axes.contour(U,V,Z,levels=[4],colors='b')\n",
    "    elif(a == 2):\n",
    "        cs = axes.contour(U,V,Z,20,colors='g')\n",
    "    else:\n",
    "        cs = axes.contour(U,V,Z,levels=[4],colors='r')\n",
    "    axes.legend(labels=['good', 'faulty', 'Decision Boundary'])\n",
    "    return cs\n",
    "##################################################################"
   ]
  },
  {
   "cell_type": "markdown",
   "metadata": {},
   "source": [
    "## Plot the training data"
   ]
  },
  {
   "cell_type": "code",
   "execution_count": 5,
   "metadata": {},
   "outputs": [
    {
     "data": {
      "image/png": "[encoded data removed]",
      "text/plain": [
       "<Figure size 432x288 with 1 Axes>"
      ]
     },
     "metadata": {
      "needs_background": "light"
     },
     "output_type": "display_data"
    }
   ],
   "source": [
    "plt.figure()\n",
    "plt.scatter(pointX0, pointY0, c='b')\n",
    "plt.scatter(pointX1, pointY1, c='r')\n",
    "plt.tight_layout()\n",
    "plt.gca().set_aspect('equal', adjustable='box')\n",
    "plt.show()"
   ]
  },
  {
   "cell_type": "markdown",
   "metadata": {},
   "source": [
    "## Plot the training error with varying regularization parameters "
   ]
  },
  {
   "cell_type": "code",
   "execution_count": 14,
   "metadata": {},
   "outputs": [
    {
     "data": {
      "image/png": "[encoded data removed]",
      "text/plain": [
       "<Figure size 432x288 with 1 Axes>"
      ]
     },
     "metadata": {
      "needs_background": "light"
     },
     "output_type": "display_data"
    }
   ],
   "source": [
    "plt.title('Plot the error')\n",
    "plt.ylabel('J(theta)')\n",
    "plt.xlabel('No.iteration')\n",
    "plt.plot(cost_history011,c='r',label='over-fitting')\n",
    "plt.plot(cost_history021,c='g',label='just-right')\n",
    "plt.plot(cost_history031,c='b',label='under-fitting')\n",
    "plt.legend()\n",
    "plt.show()"
   ]
  },
  {
   "cell_type": "markdown",
   "metadata": {},
   "source": [
    "## Display the values of the chosen regularization parameters"
   ]
  },
  {
   "cell_type": "code",
   "execution_count": 16,
   "metadata": {},
   "outputs": [
    {
     "name": "stdout",
     "output_type": "stream",
     "text": [
      "lambda01 :\n",
      "\u001b[31m 1\u001b[00m\n",
      "lambda02 :\n",
      "\u001b[92m 2.2\u001b[00m\n",
      "lambda03 :\n",
      "\u001b[94m 2.9\u001b[00m\n"
     ]
    }
   ],
   "source": [
    "print(\"lambda01 :\")\n",
    "prRed(reg_pa1)\n",
    "print(\"lambda02 :\")\n",
    "prGreen(reg_pa2)\n",
    "print(\"lambda03 :\")\n",
    "prBlue(reg_pa3)"
   ]
  },
  {
   "cell_type": "markdown",
   "metadata": {},
   "source": [
    "## Plot the training accuracy with varying regularization parameters"
   ]
  },
  {
   "cell_type": "code",
   "execution_count": 20,
   "metadata": {},
   "outputs": [
    {
     "data": {
      "text/plain": [
       "<matplotlib.legend.Legend at 0x205ff7abd88>"
      ]
     },
     "execution_count": 20,
     "metadata": {},
     "output_type": "execute_result"
    },
    {
     "data": {
      "image/png": "[encoded data removed]",
      "text/plain": [
       "<Figure size 432x288 with 1 Axes>"
      ]
     },
     "metadata": {
      "needs_background": "light"
     },
     "output_type": "display_data"
    }
   ],
   "source": [
    "plt.plot(accuracy01,c='b',label='over-fitting')\n",
    "plt.plot(accuracy02,c='g',label='just-right')\n",
    "plt.plot(accuracy03,c='r',label='under-fitting')\n",
    "plt.legend()"
   ]
  },
  {
   "cell_type": "markdown",
   "metadata": {},
   "source": [
    "##  Display the final training accuracy with varying regularization parameters"
   ]
  },
  {
   "cell_type": "code",
   "execution_count": 21,
   "metadata": {},
   "outputs": [
    {
     "name": "stdout",
     "output_type": "stream",
     "text": [
      "lambda01 :\n",
      "\u001b[31m 0.9766913002287299\u001b[00m\n",
      "lambda02 :\n",
      "\u001b[92m 0.9572466061771331\u001b[00m\n",
      "lambda03 :\n",
      "\u001b[94m 0.94752035373611\u001b[00m\n"
     ]
    }
   ],
   "source": [
    "print(\"lambda01 :\")\n",
    "prRed(accuracy01[-1])\n",
    "print(\"lambda02 :\")\n",
    "prGreen(accuracy02[-1])\n",
    "print(\"lambda03 :\")\n",
    "prBlue(accuracy03[-1])"
   ]
  },
  {
   "cell_type": "markdown",
   "metadata": {},
   "source": [
    "##  Plot the optimal classifier with varying regularization parameters superimposed on the training data"
   ]
  },
  {
   "cell_type": "code",
   "execution_count": 34,
   "metadata": {
    "scrolled": true
   },
   "outputs": [
    {
     "data": {
      "image/png": "[encoded data removed]",
      "text/plain": [
       "<Figure size 432x288 with 1 Axes>"
      ]
     },
     "metadata": {
      "needs_background": "light"
     },
     "output_type": "display_data"
    },
    {
     "data": {
      "text/plain": [
       "<Figure size 432x288 with 0 Axes>"
      ]
     },
     "metadata": {},
     "output_type": "display_data"
    }
   ],
   "source": [
    "fig, axes = pp.subplots();\n",
    "plt.figure()\n",
    "axes.scatter(pointX0, pointY0, c='b')\n",
    "axes.scatter(pointX1, pointY1, c='r')\n",
    "# axes.gca().set_aspect('equal', adjustable='box')\n",
    "cs1=plotDecisionBoundary(pointX,pointY,new01, degree, axes,1)\n",
    "cs2=plotDecisionBoundary(pointX,pointY,new02, degree, axes,2)\n",
    "cs3=plotDecisionBoundary(pointX,pointY,new03, degree, axes,3)\n",
    "plt.show()"
   ]
  },
  {
   "cell_type": "code",
   "execution_count": null,
   "metadata": {},
   "outputs": [],
   "source": []
  },
  {
   "cell_type": "code",
   "execution_count": null,
   "metadata": {},
   "outputs": [],
   "source": []
  },
  {
   "cell_type": "code",
   "execution_count": null,
   "metadata": {},
   "outputs": [],
   "source": []
  },
  {
   "cell_type": "code",
   "execution_count": null,
   "metadata": {},
   "outputs": [],
   "source": []
  },
  {
   "cell_type": "code",
   "execution_count": null,
   "metadata": {},
   "outputs": [],
   "source": []
  },
  {
   "cell_type": "code",
   "execution_count": null,
   "metadata": {},
   "outputs": [],
   "source": []
  },
  {
   "cell_type": "code",
   "execution_count": null,
   "metadata": {},
   "outputs": [],
   "source": []
  },
  {
   "cell_type": "code",
   "execution_count": null,
   "metadata": {},
   "outputs": [],
   "source": []
  },
  {
   "cell_type": "code",
   "execution_count": null,
   "metadata": {},
   "outputs": [],
   "source": []
  },
  {
   "cell_type": "code",
   "execution_count": null,
   "metadata": {},
   "outputs": [],
   "source": []
  },
  {
   "cell_type": "code",
   "execution_count": null,
   "metadata": {},
   "outputs": [],
   "source": []
  },
  {
   "cell_type": "code",
   "execution_count": null,
   "metadata": {},
   "outputs": [],
   "source": []
  },
  {
   "cell_type": "code",
   "execution_count": null,
   "metadata": {},
   "outputs": [],
   "source": []
  },
  {
   "cell_type": "code",
   "execution_count": null,
   "metadata": {},
   "outputs": [],
   "source": []
  },
  {
   "cell_type": "code",
   "execution_count": null,
   "metadata": {},
   "outputs": [],
   "source": []
  },
  {
   "cell_type": "code",
   "execution_count": null,
   "metadata": {},
   "outputs": [],
   "source": []
  },
  {
   "cell_type": "code",
   "execution_count": null,
   "metadata": {},
   "outputs": [],
   "source": []
  },
  {
   "cell_type": "code",
   "execution_count": null,
   "metadata": {},
   "outputs": [],
   "source": []
  },
  {
   "cell_type": "code",
   "execution_count": null,
   "metadata": {},
   "outputs": [],
   "source": []
  },
  {
   "cell_type": "code",
   "execution_count": null,
   "metadata": {},
   "outputs": [],
   "source": []
  },
  {
   "cell_type": "code",
   "execution_count": null,
   "metadata": {},
   "outputs": [],
   "source": []
  },
  {
   "cell_type": "code",
   "execution_count": null,
   "metadata": {},
   "outputs": [],
   "source": []
  },
  {
   "cell_type": "code",
   "execution_count": 217,
   "metadata": {},
   "outputs": [],
   "source": [
    "# accuracy_history011 =[]\n",
    "# accuracy_history021 =[]\n",
    "# accuracy_history031 =[]\n",
    "# for i in range(iteration):\n",
    "#     accuracy_history011.append(cost_history01[i][0])\n",
    "#     accuracy_history021.append(cost_history02[i][0])\n",
    "#     accuracy_history031.append(cost_history03[i][0])\n",
    "# correct_history =[]\n",
    "# for i in range(1,2000):\n",
    "#     correct = 0\n",
    "#     non_c = 0\n",
    "#     for j in range(0,118):\n",
    "#         for k in range(0,118):\n",
    "#             if((accuracy_history01[i][j][k] <= 0.5) and (label[k] == 0)):\n",
    "#                 correct += 1\n",
    "#             elif((accuracy_history01[i][j][k] > 0.5) and (label[k] == 1)):\n",
    "#                 correct += 1\n",
    "#     correct_history.append(correct)"
   ]
  },
  {
   "cell_type": "code",
   "execution_count": null,
   "metadata": {},
   "outputs": [],
   "source": []
  },
  {
   "cell_type": "code",
   "execution_count": null,
   "metadata": {},
   "outputs": [],
   "source": []
  },
  {
   "cell_type": "code",
   "execution_count": null,
   "metadata": {},
   "outputs": [],
   "source": []
  },
  {
   "cell_type": "code",
   "execution_count": null,
   "metadata": {},
   "outputs": [],
   "source": []
  },
  {
   "cell_type": "code",
   "execution_count": null,
   "metadata": {},
   "outputs": [],
   "source": []
  },
  {
   "cell_type": "code",
   "execution_count": null,
   "metadata": {},
   "outputs": [],
   "source": []
  },
  {
   "cell_type": "code",
   "execution_count": null,
   "metadata": {},
   "outputs": [],
   "source": []
  },
  {
   "cell_type": "code",
   "execution_count": null,
   "metadata": {},
   "outputs": [],
   "source": []
  },
  {
   "cell_type": "code",
   "execution_count": null,
   "metadata": {},
   "outputs": [],
   "source": []
  },
  {
   "cell_type": "code",
   "execution_count": null,
   "metadata": {},
   "outputs": [],
   "source": []
  },
  {
   "cell_type": "code",
   "execution_count": null,
   "metadata": {},
   "outputs": [],
   "source": []
  },
  {
   "cell_type": "code",
   "execution_count": null,
   "metadata": {},
   "outputs": [],
   "source": []
  },
  {
   "cell_type": "code",
   "execution_count": null,
   "metadata": {},
   "outputs": [],
   "source": []
  },
  {
   "cell_type": "code",
   "execution_count": null,
   "metadata": {},
   "outputs": [],
   "source": []
  },
  {
   "cell_type": "code",
   "execution_count": null,
   "metadata": {},
   "outputs": [],
   "source": []
  },
  {
   "cell_type": "code",
   "execution_count": null,
   "metadata": {},
   "outputs": [],
   "source": []
  },
  {
   "cell_type": "code",
   "execution_count": null,
   "metadata": {},
   "outputs": [],
   "source": []
  },
  {
   "cell_type": "code",
   "execution_count": null,
   "metadata": {},
   "outputs": [],
   "source": []
  },
  {
   "cell_type": "code",
   "execution_count": null,
   "metadata": {},
   "outputs": [],
   "source": []
  },
  {
   "cell_type": "code",
   "execution_count": null,
   "metadata": {},
   "outputs": [],
   "source": []
  },
  {
   "cell_type": "code",
   "execution_count": null,
   "metadata": {},
   "outputs": [],
   "source": []
  },
  {
   "cell_type": "code",
   "execution_count": null,
   "metadata": {},
   "outputs": [],
   "source": []
  },
  {
   "cell_type": "code",
   "execution_count": null,
   "metadata": {},
   "outputs": [],
   "source": []
  },
  {
   "cell_type": "code",
   "execution_count": null,
   "metadata": {},
   "outputs": [],
   "source": []
  },
  {
   "cell_type": "code",
   "execution_count": null,
   "metadata": {},
   "outputs": [],
   "source": []
  },
  {
   "cell_type": "code",
   "execution_count": null,
   "metadata": {},
   "outputs": [],
   "source": []
  },
  {
   "cell_type": "code",
   "execution_count": null,
   "metadata": {},
   "outputs": [],
   "source": []
  },
  {
   "cell_type": "code",
   "execution_count": null,
   "metadata": {},
   "outputs": [],
   "source": []
  },
  {
   "cell_type": "code",
   "execution_count": null,
   "metadata": {},
   "outputs": [],
   "source": []
  },
  {
   "cell_type": "code",
   "execution_count": null,
   "metadata": {},
   "outputs": [],
   "source": []
  },
  {
   "cell_type": "code",
   "execution_count": null,
   "metadata": {},
   "outputs": [],
   "source": []
  },
  {
   "cell_type": "code",
   "execution_count": null,
   "metadata": {},
   "outputs": [],
   "source": []
  },
  {
   "cell_type": "code",
   "execution_count": null,
   "metadata": {},
   "outputs": [],
   "source": []
  },
  {
   "cell_type": "code",
   "execution_count": null,
   "metadata": {},
   "outputs": [],
   "source": []
  },
  {
   "cell_type": "code",
   "execution_count": null,
   "metadata": {},
   "outputs": [],
   "source": []
  },
  {
   "cell_type": "code",
   "execution_count": null,
   "metadata": {},
   "outputs": [],
   "source": []
  },
  {
   "cell_type": "code",
   "execution_count": null,
   "metadata": {},
   "outputs": [],
   "source": []
  },
  {
   "cell_type": "code",
   "execution_count": null,
   "metadata": {},
   "outputs": [],
   "source": []
  },
  {
   "cell_type": "code",
   "execution_count": null,
   "metadata": {},
   "outputs": [],
   "source": []
  },
  {
   "cell_type": "code",
   "execution_count": null,
   "metadata": {},
   "outputs": [],
   "source": []
  },
  {
   "cell_type": "code",
   "execution_count": null,
   "metadata": {},
   "outputs": [],
   "source": []
  },
  {
   "cell_type": "code",
   "execution_count": null,
   "metadata": {},
   "outputs": [],
   "source": []
  },
  {
   "cell_type": "code",
   "execution_count": null,
   "metadata": {},
   "outputs": [],
   "source": []
  },
  {
   "cell_type": "code",
   "execution_count": null,
   "metadata": {},
   "outputs": [],
   "source": []
  },
  {
   "cell_type": "code",
   "execution_count": null,
   "metadata": {},
   "outputs": [],
   "source": []
  },
  {
   "cell_type": "code",
   "execution_count": null,
   "metadata": {},
   "outputs": [],
   "source": []
  },
  {
   "cell_type": "code",
   "execution_count": null,
   "metadata": {},
   "outputs": [],
   "source": []
  },
  {
   "cell_type": "code",
   "execution_count": null,
   "metadata": {},
   "outputs": [],
   "source": []
  },
  {
   "cell_type": "code",
   "execution_count": null,
   "metadata": {},
   "outputs": [],
   "source": []
  },
  {
   "cell_type": "code",
   "execution_count": null,
   "metadata": {},
   "outputs": [],
   "source": []
  },
  {
   "cell_type": "code",
   "execution_count": null,
   "metadata": {},
   "outputs": [],
   "source": []
  },
  {
   "cell_type": "code",
   "execution_count": null,
   "metadata": {},
   "outputs": [],
   "source": []
  },
  {
   "cell_type": "code",
   "execution_count": null,
   "metadata": {},
   "outputs": [],
   "source": []
  },
  {
   "cell_type": "code",
   "execution_count": null,
   "metadata": {},
   "outputs": [],
   "source": []
  },
  {
   "cell_type": "code",
   "execution_count": null,
   "metadata": {},
   "outputs": [],
   "source": []
  },
  {
   "cell_type": "code",
   "execution_count": null,
   "metadata": {},
   "outputs": [],
   "source": []
  },
  {
   "cell_type": "code",
   "execution_count": null,
   "metadata": {},
   "outputs": [],
   "source": []
  },
  {
   "cell_type": "code",
   "execution_count": null,
   "metadata": {},
   "outputs": [],
   "source": []
  },
  {
   "cell_type": "code",
   "execution_count": null,
   "metadata": {},
   "outputs": [],
   "source": []
  },
  {
   "cell_type": "code",
   "execution_count": null,
   "metadata": {},
   "outputs": [],
   "source": []
  },
  {
   "cell_type": "code",
   "execution_count": null,
   "metadata": {},
   "outputs": [],
   "source": []
  },
  {
   "cell_type": "code",
   "execution_count": null,
   "metadata": {},
   "outputs": [],
   "source": []
  },
  {
   "cell_type": "code",
   "execution_count": null,
   "metadata": {},
   "outputs": [],
   "source": []
  },
  {
   "cell_type": "code",
   "execution_count": null,
   "metadata": {},
   "outputs": [],
   "source": []
  },
  {
   "cell_type": "code",
   "execution_count": null,
   "metadata": {},
   "outputs": [],
   "source": []
  },
  {
   "cell_type": "code",
   "execution_count": null,
   "metadata": {},
   "outputs": [],
   "source": []
  },
  {
   "cell_type": "code",
   "execution_count": null,
   "metadata": {},
   "outputs": [],
   "source": []
  }
 ],
 "metadata": {
  "kernelspec": {
   "display_name": "Python 3",
   "language": "python",
   "name": "python3"
  },
  "language_info": {
   "codemirror_mode": {
    "name": "ipython",
    "version": 3
   },
   "file_extension": ".py",
   "mimetype": "text/x-python",
   "name": "python",
   "nbconvert_exporter": "python",
   "pygments_lexer": "ipython3",
   "version": "3.7.6"
  }
 },
 "nbformat": 4,
 "nbformat_minor": 4
}
