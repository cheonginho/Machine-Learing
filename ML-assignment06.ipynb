{
 "cells": [
  {
   "cell_type": "code",
   "execution_count": 86,
   "metadata": {},
   "outputs": [],
   "source": [
    "# import numpy as np\n",
    "# import matplotlib.pyplot as plt\n",
    "# import pandas as pd\n",
    "\n",
    "# data    =  pd.read_csv('data.txt',sep=',',engine='python',encoding='cp949',names=['x','y','label'])\n",
    "import numpy as np\n",
    "import matplotlib.pyplot as plt\n",
    "\n",
    "data    = np.genfromtxt(\"data-nonlinear.txt\", delimiter=',')\n",
    "\n",
    "pointX  = data[:, 0]\n",
    "pointY  = data[:, 1]\n",
    "label   = data[:, 2]\n",
    "\n",
    "pointX0 = pointX[label == 0]\n",
    "pointY0 = pointY[label == 0]\n",
    "\n",
    "pointX1 = pointX[label == 1]\n",
    "pointY1 = pointY[label == 1]"
   ]
  },
  {
   "cell_type": "markdown",
   "metadata": {},
   "source": [
    "## 1. plot the training data"
   ]
  },
  {
   "cell_type": "code",
   "execution_count": 87,
   "metadata": {},
   "outputs": [
    {
     "data": {
      "image/png": "[encoded data removed]",
      "text/plain": [
       "<Figure size 432x288 with 1 Axes>"
      ]
     },
     "metadata": {
      "needs_background": "light"
     },
     "output_type": "display_data"
    }
   ],
   "source": [
    "plt.figure()\n",
    "plt.scatter(pointX0, pointY0, c='b')\n",
    "plt.scatter(pointX1, pointY1, c='r')\n",
    "plt.tight_layout()\n",
    "plt.gca().set_aspect('equal', adjustable='box')\n",
    "plt.show()"
   ]
  },
  {
   "cell_type": "markdown",
   "metadata": {},
   "source": [
    "## 2. write down the high dimensional function"
   ]
  },
  {
   "cell_type": "markdown",
   "metadata": {},
   "source": [
    "$g(x,y,\\theta)=\\theta_0 + \\theta_1x^2 + \\theta_2y^2 + \\theta_3xy$"
   ]
  },
  {
   "cell_type": "code",
   "execution_count": 88,
   "metadata": {},
   "outputs": [
    {
     "data": {
      "text/plain": [
       "array([[ 1.       ,  0.051267 ,  0.69956  ],\n",
       "       [ 1.       , -0.092742 ,  0.68494  ],\n",
       "       [ 1.       , -0.21371  ,  0.69225  ],\n",
       "       [ 1.       , -0.375    ,  0.50219  ],\n",
       "       [ 1.       , -0.51325  ,  0.46564  ],\n",
       "       [ 1.       , -0.52477  ,  0.2098   ],\n",
       "       [ 1.       , -0.39804  ,  0.034357 ],\n",
       "       [ 1.       , -0.30588  , -0.19225  ],\n",
       "       [ 1.       ,  0.016705 , -0.40424  ],\n",
       "       [ 1.       ,  0.13191  , -0.51389  ],\n",
       "       [ 1.       ,  0.38537  , -0.56506  ],\n",
       "       [ 1.       ,  0.52938  , -0.5212   ],\n",
       "       [ 1.       ,  0.63882  , -0.24342  ],\n",
       "       [ 1.       ,  0.73675  , -0.18494  ],\n",
       "       [ 1.       ,  0.54666  ,  0.48757  ],\n",
       "       [ 1.       ,  0.322    ,  0.5826   ],\n",
       "       [ 1.       ,  0.16647  ,  0.53874  ],\n",
       "       [ 1.       , -0.046659 ,  0.81652  ],\n",
       "       [ 1.       , -0.17339  ,  0.69956  ],\n",
       "       [ 1.       , -0.47869  ,  0.63377  ],\n",
       "       [ 1.       , -0.60541  ,  0.59722  ],\n",
       "       [ 1.       , -0.62846  ,  0.33406  ],\n",
       "       [ 1.       , -0.59389  ,  0.005117 ],\n",
       "       [ 1.       , -0.42108  , -0.27266  ],\n",
       "       [ 1.       , -0.11578  , -0.39693  ],\n",
       "       [ 1.       ,  0.20104  , -0.60161  ],\n",
       "       [ 1.       ,  0.46601  , -0.53582  ],\n",
       "       [ 1.       ,  0.67339  , -0.53582  ],\n",
       "       [ 1.       , -0.13882  ,  0.54605  ],\n",
       "       [ 1.       , -0.29435  ,  0.77997  ],\n",
       "       [ 1.       , -0.26555  ,  0.96272  ],\n",
       "       [ 1.       , -0.16187  ,  0.8019   ],\n",
       "       [ 1.       , -0.17339  ,  0.64839  ],\n",
       "       [ 1.       , -0.28283  ,  0.47295  ],\n",
       "       [ 1.       , -0.36348  ,  0.31213  ],\n",
       "       [ 1.       , -0.30012  ,  0.027047 ],\n",
       "       [ 1.       , -0.23675  , -0.21418  ],\n",
       "       [ 1.       , -0.06394  , -0.18494  ],\n",
       "       [ 1.       ,  0.062788 , -0.16301  ],\n",
       "       [ 1.       ,  0.22984  , -0.41155  ],\n",
       "       [ 1.       ,  0.2932   , -0.2288   ],\n",
       "       [ 1.       ,  0.48329  , -0.18494  ],\n",
       "       [ 1.       ,  0.64459  , -0.14108  ],\n",
       "       [ 1.       ,  0.46025  ,  0.012427 ],\n",
       "       [ 1.       ,  0.6273   ,  0.15863  ],\n",
       "       [ 1.       ,  0.57546  ,  0.26827  ],\n",
       "       [ 1.       ,  0.72523  ,  0.44371  ],\n",
       "       [ 1.       ,  0.22408  ,  0.52412  ],\n",
       "       [ 1.       ,  0.44297  ,  0.67032  ],\n",
       "       [ 1.       ,  0.322    ,  0.69225  ],\n",
       "       [ 1.       ,  0.13767  ,  0.57529  ],\n",
       "       [ 1.       , -0.0063364,  0.39985  ],\n",
       "       [ 1.       , -0.092742 ,  0.55336  ],\n",
       "       [ 1.       , -0.20795  ,  0.35599  ],\n",
       "       [ 1.       , -0.20795  ,  0.17325  ],\n",
       "       [ 1.       , -0.43836  ,  0.21711  ],\n",
       "       [ 1.       , -0.21947  , -0.016813 ],\n",
       "       [ 1.       , -0.13882  , -0.27266  ],\n",
       "       [ 1.       ,  0.18376  ,  0.93348  ],\n",
       "       [ 1.       ,  0.22408  ,  0.77997  ],\n",
       "       [ 1.       ,  0.29896  ,  0.61915  ],\n",
       "       [ 1.       ,  0.50634  ,  0.75804  ],\n",
       "       [ 1.       ,  0.61578  ,  0.7288   ],\n",
       "       [ 1.       ,  0.60426  ,  0.59722  ],\n",
       "       [ 1.       ,  0.76555  ,  0.50219  ],\n",
       "       [ 1.       ,  0.92684  ,  0.3633   ],\n",
       "       [ 1.       ,  0.82316  ,  0.27558  ],\n",
       "       [ 1.       ,  0.96141  ,  0.085526 ],\n",
       "       [ 1.       ,  0.93836  ,  0.012427 ],\n",
       "       [ 1.       ,  0.86348  , -0.082602 ],\n",
       "       [ 1.       ,  0.89804  , -0.20687  ],\n",
       "       [ 1.       ,  0.85196  , -0.36769  ],\n",
       "       [ 1.       ,  0.82892  , -0.5212   ],\n",
       "       [ 1.       ,  0.79435  , -0.55775  ],\n",
       "       [ 1.       ,  0.59274  , -0.7405   ],\n",
       "       [ 1.       ,  0.51786  , -0.5943   ],\n",
       "       [ 1.       ,  0.46601  , -0.41886  ],\n",
       "       [ 1.       ,  0.35081  , -0.57968  ],\n",
       "       [ 1.       ,  0.28744  , -0.76974  ],\n",
       "       [ 1.       ,  0.085829 , -0.75512  ],\n",
       "       [ 1.       ,  0.14919  , -0.57968  ],\n",
       "       [ 1.       , -0.13306  , -0.4481   ],\n",
       "       [ 1.       , -0.40956  , -0.41155  ],\n",
       "       [ 1.       , -0.39228  , -0.25804  ],\n",
       "       [ 1.       , -0.74366  , -0.25804  ],\n",
       "       [ 1.       , -0.69758  ,  0.041667 ],\n",
       "       [ 1.       , -0.75518  ,  0.2902   ],\n",
       "       [ 1.       , -0.69758  ,  0.68494  ],\n",
       "       [ 1.       , -0.4038   ,  0.70687  ],\n",
       "       [ 1.       , -0.38076  ,  0.91886  ],\n",
       "       [ 1.       , -0.50749  ,  0.90424  ],\n",
       "       [ 1.       , -0.54781  ,  0.70687  ],\n",
       "       [ 1.       ,  0.10311  ,  0.77997  ],\n",
       "       [ 1.       ,  0.057028 ,  0.91886  ],\n",
       "       [ 1.       , -0.10426  ,  0.99196  ],\n",
       "       [ 1.       , -0.081221 ,  1.1089   ],\n",
       "       [ 1.       ,  0.28744  ,  1.087    ],\n",
       "       [ 1.       ,  0.39689  ,  0.82383  ],\n",
       "       [ 1.       ,  0.63882  ,  0.88962  ],\n",
       "       [ 1.       ,  0.82316  ,  0.66301  ],\n",
       "       [ 1.       ,  0.67339  ,  0.64108  ],\n",
       "       [ 1.       ,  1.0709   ,  0.10015  ],\n",
       "       [ 1.       , -0.046659 , -0.57968  ],\n",
       "       [ 1.       , -0.23675  , -0.63816  ],\n",
       "       [ 1.       , -0.15035  , -0.36769  ],\n",
       "       [ 1.       , -0.49021  , -0.3019   ],\n",
       "       [ 1.       , -0.46717  , -0.13377  ],\n",
       "       [ 1.       , -0.28859  , -0.060673 ],\n",
       "       [ 1.       , -0.61118  , -0.067982 ],\n",
       "       [ 1.       , -0.66302  , -0.21418  ],\n",
       "       [ 1.       , -0.59965  , -0.41886  ],\n",
       "       [ 1.       , -0.72638  , -0.082602 ],\n",
       "       [ 1.       , -0.83007  ,  0.31213  ],\n",
       "       [ 1.       , -0.72062  ,  0.53874  ],\n",
       "       [ 1.       , -0.59389  ,  0.49488  ],\n",
       "       [ 1.       , -0.48445  ,  0.99927  ],\n",
       "       [ 1.       , -0.0063364,  0.99927  ],\n",
       "       [ 1.       ,  0.63265  , -0.030612 ]])"
      ]
     },
     "execution_count": 88,
     "metadata": {},
     "output_type": "execute_result"
    }
   ],
   "source": [
    "\n",
    "train_matrix = np.c_[np.ones(pointX.shape[0]),pointX,pointY]\n",
    "train_matrix"
   ]
  },
  {
   "cell_type": "code",
   "execution_count": 177,
   "metadata": {},
   "outputs": [
    {
     "data": {
      "text/plain": [
       "[-1, 1, 1, 0]"
      ]
     },
     "execution_count": 177,
     "metadata": {},
     "output_type": "execute_result"
    }
   ],
   "source": [
    "degree = 3\n",
    "alpha = 1\n",
    "iteration = 5000\n",
    "m = label.size\n",
    "#theta 랜덤 생성\n",
    "np.random.seed(777)\n",
    "theta = [-1,1,1,0]\n",
    "theta"
   ]
  },
  {
   "cell_type": "code",
   "execution_count": 178,
   "metadata": {},
   "outputs": [
    {
     "data": {
      "text/plain": [
       "array([1.        , 0.00262831, 0.48938419, 0.03586434])"
      ]
     },
     "execution_count": 178,
     "metadata": {},
     "output_type": "execute_result"
    }
   ],
   "source": [
    "def high_demension(x,y,degree):\n",
    "    res = np.c_[np.ones(x.shape[0]),x**2,y**2,x*y]\n",
    "    return res\n",
    "\n",
    "highf = high_demension(pointX,pointY,degree)\n",
    "highf[0]"
   ]
  },
  {
   "cell_type": "code",
   "execution_count": 179,
   "metadata": {},
   "outputs": [],
   "source": [
    "def cost(label,gx):\n",
    "    j = np.mean(((-label*np.log(gx))-((1-label)*np.log(1-gx))))\n",
    "    return j\n",
    "def sigmoid(z):\n",
    "    return 1 / (1+np.exp(-z))\n"
   ]
  },
  {
   "cell_type": "code",
   "execution_count": 183,
   "metadata": {},
   "outputs": [],
   "source": [
    "def gradient_descent(matrix,label,theta,iterations,alpha):\n",
    "    cost_history=[]\n",
    "    theta_history=[theta]\n",
    "    accuracy_history=[]\n",
    "    for i in range(iterations):\n",
    "        prediction = np.dot(matrix,theta)\n",
    "        sig = sigmoid(prediction)\n",
    "        error = sig - label\n",
    "        accuracy_history.append(sig)\n",
    "        cost_history.append(cost(label,sig))\n",
    "        theta = theta - (alpha*(1/m)*np.dot(matrix.T,error))\n",
    "        theta_history.append(theta)\n",
    "    return theta_history, cost_history , accuracy_history"
   ]
  },
  {
   "cell_type": "code",
   "execution_count": 184,
   "metadata": {},
   "outputs": [],
   "source": [
    "theta_history , cost_history, accuracy_history = gradient_descent(highf,label,theta,iteration,alpha)"
   ]
  },
  {
   "cell_type": "code",
   "execution_count": null,
   "metadata": {},
   "outputs": [],
   "source": []
  },
  {
   "cell_type": "code",
   "execution_count": null,
   "metadata": {},
   "outputs": [],
   "source": []
  },
  {
   "cell_type": "code",
   "execution_count": null,
   "metadata": {},
   "outputs": [],
   "source": []
  },
  {
   "cell_type": "code",
   "execution_count": null,
   "metadata": {},
   "outputs": [],
   "source": []
  },
  {
   "cell_type": "code",
   "execution_count": null,
   "metadata": {},
   "outputs": [],
   "source": []
  },
  {
   "cell_type": "code",
   "execution_count": null,
   "metadata": {},
   "outputs": [],
   "source": []
  },
  {
   "cell_type": "code",
   "execution_count": null,
   "metadata": {},
   "outputs": [],
   "source": []
  },
  {
   "cell_type": "code",
   "execution_count": null,
   "metadata": {},
   "outputs": [],
   "source": []
  },
  {
   "cell_type": "code",
   "execution_count": null,
   "metadata": {},
   "outputs": [],
   "source": []
  },
  {
   "cell_type": "code",
   "execution_count": null,
   "metadata": {},
   "outputs": [],
   "source": []
  },
  {
   "cell_type": "code",
   "execution_count": null,
   "metadata": {},
   "outputs": [],
   "source": []
  },
  {
   "cell_type": "code",
   "execution_count": null,
   "metadata": {},
   "outputs": [],
   "source": []
  },
  {
   "cell_type": "code",
   "execution_count": null,
   "metadata": {},
   "outputs": [],
   "source": []
  },
  {
   "cell_type": "code",
   "execution_count": null,
   "metadata": {},
   "outputs": [],
   "source": []
  },
  {
   "cell_type": "code",
   "execution_count": null,
   "metadata": {},
   "outputs": [],
   "source": []
  },
  {
   "cell_type": "code",
   "execution_count": null,
   "metadata": {},
   "outputs": [],
   "source": []
  },
  {
   "cell_type": "code",
   "execution_count": null,
   "metadata": {},
   "outputs": [],
   "source": []
  },
  {
   "cell_type": "code",
   "execution_count": null,
   "metadata": {},
   "outputs": [],
   "source": []
  },
  {
   "cell_type": "code",
   "execution_count": null,
   "metadata": {},
   "outputs": [],
   "source": []
  },
  {
   "cell_type": "code",
   "execution_count": null,
   "metadata": {},
   "outputs": [],
   "source": []
  },
  {
   "cell_type": "code",
   "execution_count": null,
   "metadata": {},
   "outputs": [],
   "source": []
  },
  {
   "cell_type": "code",
   "execution_count": null,
   "metadata": {},
   "outputs": [],
   "source": []
  },
  {
   "cell_type": "code",
   "execution_count": null,
   "metadata": {},
   "outputs": [],
   "source": []
  },
  {
   "cell_type": "code",
   "execution_count": null,
   "metadata": {},
   "outputs": [],
   "source": []
  },
  {
   "cell_type": "code",
   "execution_count": null,
   "metadata": {},
   "outputs": [],
   "source": []
  },
  {
   "cell_type": "code",
   "execution_count": null,
   "metadata": {},
   "outputs": [],
   "source": []
  },
  {
   "cell_type": "code",
   "execution_count": null,
   "metadata": {},
   "outputs": [],
   "source": []
  },
  {
   "cell_type": "code",
   "execution_count": null,
   "metadata": {},
   "outputs": [],
   "source": []
  },
  {
   "cell_type": "code",
   "execution_count": null,
   "metadata": {},
   "outputs": [],
   "source": []
  },
  {
   "cell_type": "code",
   "execution_count": null,
   "metadata": {},
   "outputs": [],
   "source": []
  },
  {
   "cell_type": "code",
   "execution_count": null,
   "metadata": {},
   "outputs": [],
   "source": []
  }
 ],
 "metadata": {
  "kernelspec": {
   "display_name": "Python 3",
   "language": "python",
   "name": "python3"
  },
  "language_info": {
   "codemirror_mode": {
    "name": "ipython",
    "version": 3
   },
   "file_extension": ".py",
   "mimetype": "text/x-python",
   "name": "python",
   "nbconvert_exporter": "python",
   "pygments_lexer": "ipython3",
   "version": "3.7.6"
  }
 },
 "nbformat": 4,
 "nbformat_minor": 4
}
