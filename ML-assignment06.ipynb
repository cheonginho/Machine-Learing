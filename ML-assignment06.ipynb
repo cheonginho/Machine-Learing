{
 "cells": [
  {
   "cell_type": "code",
   "execution_count": 505,
   "metadata": {},
   "outputs": [],
   "source": [
    "# import numpy as np\n",
    "# import matplotlib.pyplot as plt\n",
    "# import pandas as pd\n",
    "\n",
    "# data    =  pd.read_csv('data.txt',sep=',',engine='python',encoding='cp949',names=['x','y','label'])\n",
    "import numpy as np\n",
    "import matplotlib.pyplot as plt\n",
    "\n",
    "data    = np.genfromtxt(\"data-nonlinear.txt\", delimiter=',')\n",
    "\n",
    "pointX  = data[:, 0]\n",
    "pointY  = data[:, 1]\n",
    "label   = data[:, 2]\n",
    "\n",
    "pointX0 = pointX[label == 0]\n",
    "pointY0 = pointY[label == 0]\n",
    "\n",
    "pointX1 = pointX[label == 1]\n",
    "pointY1 = pointY[label == 1]\n",
    "\n",
    "pointX = (pointX-pointX.mean()) / pointX.std()\n",
    "pointY = (pointY-pointY.mean()) / pointY.std()\n",
    "train_matrix = np.c_[np.ones(pointX.shape[0]),pointX,pointY]\n",
    "##############################################################\n",
    "degree = 2\n",
    "alpha = 0.001\n",
    "iteration = 1500\n",
    "m = label.size\n",
    "#theta 랜덤 생성\n",
    "np.random.seed(777)\n",
    "theta = [-1,1,1,0]\n",
    "#########################################################\n",
    "def high_demension(x,y,degree):\n",
    "    res = np.c_[np.ones(x.shape[0]),x**degree,y**degree,x*y-5.5]\n",
    "    return res\n",
    "\n",
    "highf = high_demension(pointX,pointY,degree)\n",
    "##############################################\n",
    "def cost(label,gx):\n",
    "    j = np.mean(((-label*np.log(gx))-((1-label)*np.log(1-gx))))\n",
    "    return j\n",
    "def sigmoid(z):\n",
    "    return 1 / (1+np.exp(-z))\n",
    "########################################\n",
    "def gradient_descent(matrix,label,theta,iterations,alpha):\n",
    "    cost_history=[]\n",
    "    theta_history=[theta]\n",
    "    accuracy_history=[]\n",
    "    for i in range(iterations):\n",
    "        prediction = np.dot(matrix,theta)\n",
    "        sig = sigmoid(prediction)\n",
    "        error = sig - label\n",
    "        accuracy_history.append(sig)\n",
    "        cost_history.append(cost(label,sig))\n",
    "        theta = theta - (alpha*(1/m)*np.dot(matrix.T,error))\n",
    "        theta_history.append(theta)\n",
    "    return theta_history, cost_history , accuracy_history\n",
    "####################################################\n",
    "theta_history , cost_history, accuracy_history = gradient_descent(highf,label,theta,iteration,alpha)\n",
    "\n",
    "##############\n",
    "correct_history =[]\n",
    "for i in range(iteration):\n",
    "    correct = 0\n",
    "    for j in range(len(accuracy_history[0])):\n",
    "        if(((accuracy_history[i][j] <= 0.5) and (label[j] == 1)) or ((accuracy_history[i][j] > 0.5) and (label[j] == 0))):\n",
    "            correct += 1\n",
    "    correct_history.append(correct)        \n",
    "\n",
    "\n",
    "for i in range(iteration):\n",
    "     correct_history[i] = (correct_history[i] / len(accuracy_history[0])) * 100\n",
    "#############################################################################\n",
    "import matplotlib.pyplot as pp\n",
    "def plotDecisionBoundary(x,y,theta,degree, axes):\n",
    "    u = np.linspace(x.min(), x.max(), 100)\n",
    "    v = np.linspace(y.min(), y.max(), 100)\n",
    "    U,V = np.meshgrid(u,v)\n",
    "    # convert U, V to vectors for calculating additional features\n",
    "    # using vectorized implementation\n",
    "    U = np.ravel(U)\n",
    "    V = np.ravel(V)\n",
    "    Z = np.zeros((len(u) * len(v)))\n",
    "    \n",
    "    X_poly = high_demension(U,V,degree)\n",
    "    Z = X_poly.dot(theta[-1])\n",
    "    \n",
    "    # reshape U, V, Z back to matrix\n",
    "    U = U.reshape((len(u), len(v)))\n",
    "    V = V.reshape((len(u), len(v)))\n",
    "    Z = Z.reshape((len(u), len(v)))\n",
    "    \n",
    "    cs = axes.contour(U,V,Z,levels=[0],cmap= \"Greys_r\")\n",
    "    axes.legend(labels=['good', 'faulty', 'Decision Boundary'])\n",
    "    return cs\n",
    "    "
   ]
  },
  {
   "cell_type": "markdown",
   "metadata": {},
   "source": [
    "## 1. plot the training data"
   ]
  },
  {
   "cell_type": "code",
   "execution_count": 503,
   "metadata": {},
   "outputs": [
    {
     "data": {
      "image/png": "[encoded data removed]",
      "text/plain": [
       "<Figure size 432x288 with 1 Axes>"
      ]
     },
     "metadata": {
      "needs_background": "light"
     },
     "output_type": "display_data"
    }
   ],
   "source": [
    "plt.figure()\n",
    "plt.scatter(pointX0, pointY0, c='b')\n",
    "plt.scatter(pointX1, pointY1, c='r')\n",
    "plt.tight_layout()\n",
    "plt.gca().set_aspect('equal', adjustable='box')\n",
    "plt.show()"
   ]
  },
  {
   "cell_type": "markdown",
   "metadata": {},
   "source": [
    "## 2. write down the high dimensional function"
   ]
  },
  {
   "cell_type": "markdown",
   "metadata": {},
   "source": [
    "$g(x,y,\\theta)=\\theta_0 + \\theta_1x^2 + \\theta_2y^2 + \\theta_3xy$"
   ]
  },
  {
   "cell_type": "markdown",
   "metadata": {},
   "source": [
    "## 3. plot the training error"
   ]
  },
  {
   "cell_type": "code",
   "execution_count": 491,
   "metadata": {},
   "outputs": [
    {
     "data": {
      "text/plain": [
       "[<matplotlib.lines.Line2D at 0x1c0f130ae48>]"
      ]
     },
     "execution_count": 491,
     "metadata": {},
     "output_type": "execute_result"
    },
    {
     "data": {
      "image/png": "[encoded data removed]",
      "text/plain": [
       "<Figure size 432x288 with 1 Axes>"
      ]
     },
     "metadata": {
      "needs_background": "light"
     },
     "output_type": "display_data"
    }
   ],
   "source": [
    "plt.plot(cost_history)"
   ]
  },
  {
   "cell_type": "markdown",
   "metadata": {},
   "source": [
    "## 4 .plot the training accuracy"
   ]
  },
  {
   "cell_type": "code",
   "execution_count": 492,
   "metadata": {},
   "outputs": [
    {
     "data": {
      "text/plain": [
       "[<matplotlib.lines.Line2D at 0x1c0f3e25948>]"
      ]
     },
     "execution_count": 492,
     "metadata": {},
     "output_type": "execute_result"
    },
    {
     "data": {
      "image/png": "[encoded data removed]",
      "text/plain": [
       "<Figure size 432x288 with 1 Axes>"
      ]
     },
     "metadata": {
      "needs_background": "light"
     },
     "output_type": "display_data"
    }
   ],
   "source": [
    "# for i in range(len(accuracy_history[0])):\n",
    "plt.plot(correct_history,c='r')"
   ]
  },
  {
   "cell_type": "markdown",
   "metadata": {},
   "source": [
    "## 5. Write down the final accuracy"
   ]
  },
  {
   "cell_type": "code",
   "execution_count": 493,
   "metadata": {},
   "outputs": [
    {
     "name": "stdout",
     "output_type": "stream",
     "text": [
      "81.35593220338984\n"
     ]
    }
   ],
   "source": [
    "print(correct_history[-1])"
   ]
  },
  {
   "cell_type": "markdown",
   "metadata": {},
   "source": [
    "## 6. Plot the optimal classifier superimposed on the training data "
   ]
  },
  {
   "cell_type": "code",
   "execution_count": 494,
   "metadata": {},
   "outputs": [
    {
     "data": {
      "text/plain": [
       "array([-1.01033596,  0.56269331,  0.67304013,  0.05601171])"
      ]
     },
     "execution_count": 494,
     "metadata": {},
     "output_type": "execute_result"
    }
   ],
   "source": [
    "theta_history[-1]"
   ]
  },
  {
   "cell_type": "code",
   "execution_count": 506,
   "metadata": {},
   "outputs": [
    {
     "data": {
      "image/png": "[encoded data removed]",
      "text/plain": [
       "<Figure size 432x288 with 1 Axes>"
      ]
     },
     "metadata": {
      "needs_background": "light"
     },
     "output_type": "display_data"
    },
    {
     "data": {
      "text/plain": [
       "<Figure size 432x288 with 0 Axes>"
      ]
     },
     "metadata": {},
     "output_type": "display_data"
    }
   ],
   "source": [
    "fig, axes = pp.subplots();\n",
    "plt.figure()\n",
    "axes.scatter(pointX0, pointY0, c='b')\n",
    "axes.scatter(pointX1, pointY1, c='r')\n",
    "# axes.gca().set_aspect('equal', adjustable='box')\n",
    "plotDecisionBoundary(pointX,pointY,theta_history, degree, axes)\n",
    "plt.show()"
   ]
  },
  {
   "cell_type": "code",
   "execution_count": null,
   "metadata": {},
   "outputs": [],
   "source": []
  }
 ],
 "metadata": {
  "kernelspec": {
   "display_name": "Python 3",
   "language": "python",
   "name": "python3"
  },
  "language_info": {
   "codemirror_mode": {
    "name": "ipython",
    "version": 3
   },
   "file_extension": ".py",
   "mimetype": "text/x-python",
   "name": "python",
   "nbconvert_exporter": "python",
   "pygments_lexer": "ipython3",
   "version": "3.7.6"
  }
 },
 "nbformat": 4,
 "nbformat_minor": 4
}
