{
 "cells": [
  {
   "cell_type": "markdown",
   "metadata": {},
   "source": [
    "###  Plot the training data"
   ]
  },
  {
   "cell_type": "code",
   "execution_count": 162,
   "metadata": {},
   "outputs": [
    {
     "data": {
      "image/png": "[encoded data removed]",
      "text/plain": [
       "<Figure size 576x576 with 1 Axes>"
      ]
     },
     "metadata": {
      "needs_background": "light"
     },
     "output_type": "display_data"
    },
    {
     "data": {
      "text/plain": [
       "0     34.623660\n",
       "1     30.286711\n",
       "2     35.847409\n",
       "3     60.182599\n",
       "4     79.032736\n",
       "        ...    \n",
       "95    83.489163\n",
       "96    42.261701\n",
       "97    99.315009\n",
       "98    55.340018\n",
       "99    74.775893\n",
       "Name: x, Length: 100, dtype: float64"
      ]
     },
     "execution_count": 162,
     "metadata": {},
     "output_type": "execute_result"
    }
   ],
   "source": [
    "import numpy as np\n",
    "import matplotlib.pyplot as plt\n",
    "import pandas as pd\n",
    "\n",
    "data    =  pd.read_csv('data.txt',sep=',',engine='python',encoding='cp949',names=['x','y','label'])\n",
    "\n",
    "X   = data['x']\n",
    "Y   = data['y']\n",
    "LABEL  = data['label']\n",
    "\n",
    "x_label0    = data.loc[data['label'] == 0,'x']\n",
    "x_label1    = data.loc[data['label']==1,'x']\n",
    "\n",
    "\n",
    "y_label0    = data.loc[data['label']==0,'y']\n",
    "y_label1    = data.loc[data['label']==1,'y']\n",
    "\n",
    "\n",
    "plt.figure(figsize=(8, 8))\n",
    "plt.scatter(x_label0, y_label0, alpha=0.3, c='b')\n",
    "plt.scatter(x_label1, y_label1, alpha=0.3, c='r')\n",
    "plt.show()\n"
   ]
  },
  {
   "cell_type": "code",
   "execution_count": 163,
   "metadata": {},
   "outputs": [],
   "source": [
    "x_n = (x-x.mean()) / x.std()\n",
    "y_n = (y-y.mean()) / y.std()"
   ]
  },
  {
   "cell_type": "markdown",
   "metadata": {},
   "source": [
    "##### make matrix"
   ]
  },
  {
   "cell_type": "code",
   "execution_count": 164,
   "metadata": {},
   "outputs": [
    {
     "data": {
      "text/plain": [
       "array([[ 1.        , -1.60224763,  0.63834112],\n",
       "       [ 1.        , -1.82625564, -1.2075414 ],\n",
       "       [ 1.        , -1.53903969,  0.3612943 ],\n",
       "       [ 1.        , -0.28210129,  1.0863683 ],\n",
       "       [ 1.        ,  0.69152826,  0.49337794],\n",
       "       [ 1.        , -1.06199728, -0.5357394 ],\n",
       "       [ 1.        , -0.23437234,  1.63818413],\n",
       "       [ 1.        ,  0.4845113 , -1.06373024],\n",
       "       [ 1.        ,  0.53998666,  1.14651105],\n",
       "       [ 1.        ,  0.97044832, -1.22709853],\n",
       "       [ 1.        ,  1.56075461, -1.51418452],\n",
       "       [ 1.        ,  0.48393864, -1.92641626],\n",
       "       [ 1.        ,  0.86065022,  0.55490359],\n",
       "       [ 1.        ,  0.1921582 ,  1.70347834],\n",
       "       [ 1.        , -1.34839922,  0.53082781],\n",
       "       [ 1.        , -0.60293429,  1.24314792],\n",
       "       [ 1.        ,  0.17694982, -0.72913975],\n",
       "       [ 1.        ,  0.11893077, -1.05699346],\n",
       "       [ 1.        ,  0.25914553,  1.44433023],\n",
       "       [ 1.        ,  0.58543944, -1.00845873],\n",
       "       [ 1.        ,  0.0892403 , -1.26468472],\n",
       "       [ 1.        ,  1.2413042 , -0.02285779],\n",
       "       [ 1.        , -0.78042096, -0.93923898],\n",
       "       [ 1.        , -1.62350714, -1.19053019],\n",
       "       [ 1.        ,  0.63426559,  0.14875155],\n",
       "       [ 1.        , -0.17423248,  0.20186768],\n",
       "       [ 1.        ,  0.75131151, -1.15742514],\n",
       "       [ 1.        ,  1.41886056, -1.4830648 ],\n",
       "       [ 1.        , -0.19700066, -0.86350486],\n",
       "       [ 1.        , -1.38726847, -0.06632457],\n",
       "       [ 1.        , -0.22029098,  0.35619356],\n",
       "       [ 1.        ,  1.02063763, -0.49595429],\n",
       "       [ 1.        , -0.69916396, -0.16735724],\n",
       "       [ 1.        , -0.70239602,  0.1736574 ],\n",
       "       [ 1.        , -1.31231814,  0.26748769],\n",
       "       [ 1.        , -0.56863523, -0.7576197 ],\n",
       "       [ 1.        , -1.63882482,  1.76571557],\n",
       "       [ 1.        , -0.07578684,  0.7942862 ],\n",
       "       [ 1.        ,  0.47234786, -1.33310268],\n",
       "       [ 1.        , -1.62497511,  0.48760951],\n",
       "       [ 1.        ,  0.94305124, -0.53618968],\n",
       "       [ 1.        , -0.72810195, -1.0473818 ],\n",
       "       [ 1.        ,  1.48750373, -0.03532122],\n",
       "       [ 1.        ,  0.86383711, -1.38476189],\n",
       "       [ 1.        , -0.75392586, -1.10328278],\n",
       "       [ 1.        , -0.17672918, -0.76588887],\n",
       "       [ 1.        ,  0.59650575,  0.22911224],\n",
       "       [ 1.        ,  1.65941042,  1.10904426],\n",
       "       [ 1.        , -0.1844568 ,  1.65210535],\n",
       "       [ 1.        ,  1.33883167,  1.2155077 ],\n",
       "       [ 1.        ,  0.73863826,  0.42949041],\n",
       "       [ 1.        ,  1.73693492, -0.2824808 ],\n",
       "       [ 1.        ,  1.28623744, -1.23482132],\n",
       "       [ 1.        , -1.60736862, -0.31507682],\n",
       "       [ 1.        , -0.79324552, -0.88792768],\n",
       "       [ 1.        , -0.82939191, -0.34684551],\n",
       "       [ 1.        ,  1.65290418,  0.14275969],\n",
       "       [ 1.        , -1.70794943,  1.5888117 ],\n",
       "       [ 1.        ,  0.44442728,  0.19484284],\n",
       "       [ 1.        ,  0.31776703,  0.66153625],\n",
       "       [ 1.        ,  0.50366692,  1.05669679],\n",
       "       [ 1.        , -1.56803122, -1.03849986],\n",
       "       [ 1.        , -0.48502704, -1.45814261],\n",
       "       [ 1.        , -1.83802631, -0.89937003],\n",
       "       [ 1.        , -1.08343328,  0.012336  ],\n",
       "       [ 1.        ,  0.04734442, -1.35913441],\n",
       "       [ 1.        , -1.30092096,  1.69355351],\n",
       "       [ 1.        , -0.85594644, -0.77550399],\n",
       "       [ 1.        ,  0.75592876,  1.40046365],\n",
       "       [ 1.        ,  0.05694243, -0.28289384],\n",
       "       [ 1.        , -1.70042734, -1.23933351],\n",
       "       [ 1.        , -0.08289756,  0.63871945],\n",
       "       [ 1.        ,  0.34617678,  1.62283321],\n",
       "       [ 1.        , -0.26788246,  0.37172177],\n",
       "       [ 1.        , -0.35139858,  0.52118118],\n",
       "       [ 1.        ,  1.76561835,  0.33247025],\n",
       "       [ 1.        , -0.94934675,  1.20358601],\n",
       "       [ 1.        , -0.78437891,  0.51855329],\n",
       "       [ 1.        , -0.26800277, -1.28253412],\n",
       "       [ 1.        ,  0.8564979 , -1.27109695],\n",
       "       [ 1.        ,  1.20190067,  0.19371884],\n",
       "       [ 1.        ,  1.50770647, -1.11022692],\n",
       "       [ 1.        ,  0.08651467,  0.01986816],\n",
       "       [ 1.        , -0.43415649, -0.36278249],\n",
       "       [ 1.        ,  0.76043181,  1.33794685],\n",
       "       [ 1.        ,  0.14587539,  1.04773882],\n",
       "       [ 1.        , -1.21735452,  0.68269533],\n",
       "       [ 1.        ,  0.50790698,  1.30897879],\n",
       "       [ 1.        ,  0.67100669,  1.64553968],\n",
       "       [ 1.        , -0.68676645, -0.29489455],\n",
       "       [ 1.        ,  1.46947562,  0.59152637],\n",
       "       [ 1.        ,  1.28116721,  1.15128248],\n",
       "       [ 1.        , -0.52488391, -1.65775547],\n",
       "       [ 1.        ,  0.45703019,  1.00722043],\n",
       "       [ 1.        ,  1.25003483, -1.12840052],\n",
       "       [ 1.        ,  0.92170742, -0.96495748],\n",
       "       [ 1.        , -1.2077347 ,  1.12938152],\n",
       "       [ 1.        ,  1.73912916,  0.13809961],\n",
       "       [ 1.        , -0.53222578, -0.06977207],\n",
       "       [ 1.        ,  0.4716578 ,  1.26058811]])"
      ]
     },
     "execution_count": 164,
     "metadata": {},
     "output_type": "execute_result"
    }
   ],
   "source": [
    "#train data matrix\n",
    "t_matrix = np.c_[np.ones(x.shape[0]),x_n,y_n]\n",
    "t_matrix"
   ]
  },
  {
   "cell_type": "code",
   "execution_count": 165,
   "metadata": {},
   "outputs": [],
   "source": [
    "alpha = 0.01\n",
    "iteration = 1000\n",
    "m = x.size\n",
    "#theta 랜덤 생성\n",
    "np.random.seed(101)\n",
    "theta = np.random.rand(3)"
   ]
  },
  {
   "cell_type": "markdown",
   "metadata": {},
   "source": [
    "### Objective Function"
   ]
  },
  {
   "cell_type": "markdown",
   "metadata": {},
   "source": [
    "1.cost function 만들기"
   ]
  },
  {
   "cell_type": "code",
   "execution_count": 166,
   "metadata": {},
   "outputs": [],
   "source": [
    "#make sigmoid function\n",
    "m = label.size\n",
    "\n",
    "def cost(label,hx):\n",
    "    j = (1/m)*(-y.dot(np.log(hx)-((1-y).dot(np.log(1-hx)))))\n",
    "    return j\n"
   ]
  },
  {
   "cell_type": "code",
   "execution_count": 170,
   "metadata": {},
   "outputs": [],
   "source": [
    "def gradient_descent(matrix,label,theta,iterations,alpha):\n",
    "    cost_history=[]\n",
    "    theta_history=[theta]\n",
    "    for i in range(iterations):\n",
    "        prediction = np.dot(matrix,theta)\n",
    "        sig = 1/(1+np.exp(-prediction))\n",
    "        error = sig - label\n",
    "        cost_history.append(cost(label,sig))\n",
    "        theta = theta - (alpha*(1/m)*np.dot(matrix.T,error))\n",
    "        theta_history.append(theta)\n",
    "    return theta_history, cost_history\n"
   ]
  },
  {
   "cell_type": "code",
   "execution_count": 171,
   "metadata": {},
   "outputs": [],
   "source": [
    "theta_history,cost_history = gradient_descent(t_matrix,label,theta,iteration,alpha)"
   ]
  },
  {
   "cell_type": "markdown",
   "metadata": {},
   "source": [
    "## Plot the estimated parameters"
   ]
  },
  {
   "cell_type": "code",
   "execution_count": 173,
   "metadata": {
    "scrolled": true
   },
   "outputs": [
    {
     "data": {
      "image/png": "[encoded data removed]",
      "text/plain": [
       "<Figure size 432x288 with 1 Axes>"
      ]
     },
     "metadata": {
      "needs_background": "light"
     },
     "output_type": "display_data"
    }
   ],
   "source": [
    "\n",
    "theta0 =[]\n",
    "theta1 =[]\n",
    "theta2 =[]\n",
    "for i in range(iteration):\n",
    "    theta0.append(theta_history[i][0])\n",
    "    theta1.append(theta_history[i][1])\n",
    "    theta2.append(theta_history[i][2])\n",
    "\n",
    "plt.ylabel('theta')\n",
    "plt.xlabel('No.iteration')\n",
    "plt.plot(theta0,c='r')\n",
    "plt.plot(theta1,c='g')\n",
    "plt.plot(theta2,c='b')\n",
    "plt.show()"
   ]
  },
  {
   "cell_type": "code",
   "execution_count": null,
   "metadata": {},
   "outputs": [],
   "source": []
  },
  {
   "cell_type": "code",
   "execution_count": null,
   "metadata": {},
   "outputs": [],
   "source": []
  },
  {
   "cell_type": "code",
   "execution_count": null,
   "metadata": {},
   "outputs": [],
   "source": []
  },
  {
   "cell_type": "code",
   "execution_count": null,
   "metadata": {},
   "outputs": [],
   "source": []
  },
  {
   "cell_type": "code",
   "execution_count": null,
   "metadata": {},
   "outputs": [],
   "source": []
  },
  {
   "cell_type": "code",
   "execution_count": null,
   "metadata": {},
   "outputs": [],
   "source": []
  },
  {
   "cell_type": "code",
   "execution_count": null,
   "metadata": {},
   "outputs": [],
   "source": []
  },
  {
   "cell_type": "code",
   "execution_count": null,
   "metadata": {},
   "outputs": [],
   "source": []
  },
  {
   "cell_type": "code",
   "execution_count": null,
   "metadata": {},
   "outputs": [],
   "source": []
  },
  {
   "cell_type": "code",
   "execution_count": null,
   "metadata": {},
   "outputs": [],
   "source": []
  },
  {
   "cell_type": "code",
   "execution_count": null,
   "metadata": {},
   "outputs": [],
   "source": []
  },
  {
   "cell_type": "code",
   "execution_count": null,
   "metadata": {},
   "outputs": [],
   "source": []
  },
  {
   "cell_type": "code",
   "execution_count": null,
   "metadata": {},
   "outputs": [],
   "source": []
  },
  {
   "cell_type": "code",
   "execution_count": null,
   "metadata": {},
   "outputs": [],
   "source": []
  },
  {
   "cell_type": "code",
   "execution_count": null,
   "metadata": {},
   "outputs": [],
   "source": []
  },
  {
   "cell_type": "code",
   "execution_count": null,
   "metadata": {},
   "outputs": [],
   "source": []
  },
  {
   "cell_type": "code",
   "execution_count": null,
   "metadata": {},
   "outputs": [],
   "source": []
  },
  {
   "cell_type": "code",
   "execution_count": null,
   "metadata": {},
   "outputs": [],
   "source": []
  },
  {
   "cell_type": "code",
   "execution_count": null,
   "metadata": {},
   "outputs": [],
   "source": []
  },
  {
   "cell_type": "code",
   "execution_count": null,
   "metadata": {},
   "outputs": [],
   "source": []
  }
 ],
 "metadata": {
  "kernelspec": {
   "display_name": "Python 3",
   "language": "python",
   "name": "python3"
  },
  "language_info": {
   "codemirror_mode": {
    "name": "ipython",
    "version": 3
   },
   "file_extension": ".py",
   "mimetype": "text/x-python",
   "name": "python",
   "nbconvert_exporter": "python",
   "pygments_lexer": "ipython3",
   "version": "3.7.6"
  }
 },
 "nbformat": 4,
 "nbformat_minor": 4
}
