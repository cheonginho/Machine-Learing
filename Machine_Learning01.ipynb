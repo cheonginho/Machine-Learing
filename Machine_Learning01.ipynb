{
  "nbformat": 4,
  "nbformat_minor": 0,
  "metadata": {
    "colab": {
      "name": "Machine Learning01.ipynb",
      "provenance": [],
      "authorship_tag": "ABX9TyPLuSNnlo4mykDYuBPDKSH4",
      "include_colab_link": true
    },
    "kernelspec": {
      "name": "python3",
      "display_name": "Python 3"
    }
  },
  "cells": [
    {
      "cell_type": "markdown",
      "metadata": {
        "id": "view-in-github",
        "colab_type": "text"
      },
      "source": [
        "<a href=\"https://colab.research.google.com/github/cheonginho/Machine-Learing/blob/master/Machine_Learning01.ipynb\" target=\"_parent\"><img src=\"https://colab.research.google.com/assets/colab-badge.svg\" alt=\"Open In Colab\"/></a>"
      ]
    },
    {
      "cell_type": "markdown",
      "metadata": {
        "id": "gdTHFYrmGop3",
        "colab_type": "text"
      },
      "source": [
        "Machine Learning"
      ]
    },
    {
      "cell_type": "code",
      "metadata": {
        "id": "Iny2e-c1IAnj",
        "colab_type": "code",
        "colab": {}
      },
      "source": [
        "import random\n",
        "import numpy as np"
      ],
      "execution_count": 0,
      "outputs": []
    },
    {
      "cell_type": "code",
      "metadata": {
        "id": "iJtli5tWGoB0",
        "colab_type": "code",
        "colab": {}
      },
      "source": [
        "a = [0,1, 2, 3, 4]\n",
        "b = [1, 2, 3, 4, 5]"
      ],
      "execution_count": 0,
      "outputs": []
    },
    {
      "cell_type": "code",
      "metadata": {
        "id": "CXesogOHH_fd",
        "colab_type": "code",
        "colab": {
          "base_uri": "https://localhost:8080/",
          "height": 53
        },
        "outputId": "63287fa3-e04f-4f53-8726-ac0aff66219f"
      },
      "source": [
        "theta0=random.random\n",
        "theta1=random.random\n",
        "print(theta0)\n",
        "print(theta1)"
      ],
      "execution_count": 9,
      "outputs": [
        {
          "output_type": "stream",
          "text": [
            "<built-in method random of Random object at 0x2568a18>\n",
            "<built-in method random of Random object at 0x2568a18>\n"
          ],
          "name": "stdout"
        }
      ]
    },
    {
      "cell_type": "code",
      "metadata": {
        "id": "7ak4ugm5GH07",
        "colab_type": "code",
        "colab": {}
      },
      "source": [
        "thetha=[theta0,theta1]"
      ],
      "execution_count": 0,
      "outputs": []
    },
    {
      "cell_type": "code",
      "metadata": {
        "id": "0UQ9KoceMyCw",
        "colab_type": "code",
        "colab": {}
      },
      "source": [
        ""
      ],
      "execution_count": 0,
      "outputs": []
    }
  ]
}