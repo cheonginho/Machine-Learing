{
  "nbformat": 4,
  "nbformat_minor": 0,
  "metadata": {
    "colab": {
      "name": "Machine Learning01.ipynb",
      "provenance": [],
      "authorship_tag": "ABX9TyNc6+ft9L3L6xjpba5i+Bhi",
      "include_colab_link": true
    },
    "kernelspec": {
      "name": "python3",
      "display_name": "Python 3"
    }
  },
  "cells": [
    {
      "cell_type": "markdown",
      "metadata": {
        "id": "view-in-github",
        "colab_type": "text"
      },
      "source": [
        "<a href=\"https://colab.research.google.com/github/cheonginho/Machine-Learing/blob/master/Machine_Learning01.ipynb\" target=\"_parent\"><img src=\"https://colab.research.google.com/assets/colab-badge.svg\" alt=\"Open In Colab\"/></a>"
      ]
    },
    {
      "cell_type": "markdown",
      "metadata": {
        "id": "gdTHFYrmGop3",
        "colab_type": "text"
      },
      "source": [
        "Machine Learning"
      ]
    },
    {
      "cell_type": "code",
      "metadata": {
        "id": "Iny2e-c1IAnj",
        "colab_type": "code",
        "colab": {}
      },
      "source": [
        "import random\n",
        "import numpy as np\n",
        "import matplotlib.pyplot as plt"
      ],
      "execution_count": 0,
      "outputs": []
    },
    {
      "cell_type": "code",
      "metadata": {
        "id": "iJtli5tWGoB0",
        "colab_type": "code",
        "colab": {}
      },
      "source": [
        "a =np.array([0,1, 2, 3, 4]) #inputdata\n",
        "b =np.array([1, 2, 3, 4, 5]) #outputvalue"
      ],
      "execution_count": 0,
      "outputs": []
    },
    {
      "cell_type": "markdown",
      "metadata": {
        "id": "KRHSaUpGzPL6",
        "colab_type": "text"
      },
      "source": [
        "input data plotting"
      ]
    },
    {
      "cell_type": "code",
      "metadata": {
        "id": "CXesogOHH_fd",
        "colab_type": "code",
        "outputId": "efbe7816-7862-4972-be65-4fa01a6feb31",
        "colab": {
          "base_uri": "https://localhost:8080/",
          "height": 319
        }
      },
      "source": [
        "theta0 =np.random.normal(5)\n",
        "theta1 =np.random.normal(5)\n",
        "print(theta0)\n",
        "print(theta1)\n",
        "theta=[theta0,theta1]\n",
        "plt.plot(a,b,c='b',marker='.')\n",
        "\n",
        "plt.plot(theta,'k.')"
      ],
      "execution_count": 133,
      "outputs": [
        {
          "output_type": "stream",
          "text": [
            "5.349237742548491\n",
            "4.4900971814599195\n"
          ],
          "name": "stdout"
        },
        {
          "output_type": "execute_result",
          "data": {
            "text/plain": [
              "[<matplotlib.lines.Line2D at 0x7f0687e75828>]"
            ]
          },
          "metadata": {
            "tags": []
          },
          "execution_count": 133
        },
        {
          "output_type": "display_data",
          "data": {
            "image/png": "[encoded data removed]",
            "text/plain": [
              "<Figure size 432x288 with 1 Axes>"
            ]
          },
          "metadata": {
            "tags": []
          }
        }
      ]
    },
    {
      "cell_type": "code",
      "metadata": {
        "id": "yK3dsqswWUfo",
        "colab_type": "code",
        "colab": {}
      },
      "source": [
        ""
      ],
      "execution_count": 0,
      "outputs": []
    },
    {
      "cell_type": "markdown",
      "metadata": {
        "id": "Yd8Ert-nzNNV",
        "colab_type": "text"
      },
      "source": [
        "h함수 정의 및 output plotting"
      ]
    },
    {
      "cell_type": "code",
      "metadata": {
        "id": "0UQ9KoceMyCw",
        "colab_type": "code",
        "colab": {}
      },
      "source": [
        "def hypoth(theta1,theta0,x):\n",
        "  h = theta1*x + theta0\n",
        "  return h"
      ],
      "execution_count": 0,
      "outputs": []
    },
    {
      "cell_type": "code",
      "metadata": {
        "id": "uW097CX7rcCp",
        "colab_type": "code",
        "colab": {
          "base_uri": "https://localhost:8080/",
          "height": 283
        },
        "outputId": "843d6736-2c7f-45fb-cf45-72b529b0b5ee"
      },
      "source": [
        "h = hypoth(theta[1],theta[0],a)\n",
        "plt.plot(h,'k-',marker='.')"
      ],
      "execution_count": 94,
      "outputs": [
        {
          "output_type": "execute_result",
          "data": {
            "text/plain": [
              "[<matplotlib.lines.Line2D at 0x7f068b7be0b8>]"
            ]
          },
          "metadata": {
            "tags": []
          },
          "execution_count": 94
        },
        {
          "output_type": "display_data",
          "data": {
            "image/png": "[encoded data removed]",
            "text/plain": [
              "<Figure size 432x288 with 1 Axes>"
            ]
          },
          "metadata": {
            "tags": []
          }
        }
      ]
    },
    {
      "cell_type": "markdown",
      "metadata": {
        "id": "8pYF-z_o0TPC",
        "colab_type": "text"
      },
      "source": [
        "object함수 정의\n"
      ]
    },
    {
      "cell_type": "code",
      "metadata": {
        "id": "o2zLCwyE0RGi",
        "colab_type": "code",
        "colab": {
          "base_uri": "https://localhost:8080/",
          "height": 35
        },
        "outputId": "71509cfa-0d28-4e37-ec92-5e457e69830a"
      },
      "source": [
        "def objectfuc(a,b,h):\n",
        "  count = 1 / 2*len(a)\n",
        "  decrease = b - h\n",
        "  sigma = count*(np.sum(np.square(decrease))) \n",
        "  return sigma\n"
      ],
      "execution_count": 124,
      "outputs": [
        {
          "output_type": "stream",
          "text": [
            "ERROR! Session/line number was not unique in database. History logging moved to new session 67\n"
          ],
          "name": "stdout"
        }
      ]
    },
    {
      "cell_type": "code",
      "metadata": {
        "id": "ynREmR0r0RJW",
        "colab_type": "code",
        "colab": {
          "base_uri": "https://localhost:8080/",
          "height": 337
        },
        "outputId": "bb0e6b9d-62da-43ca-9c45-aa8dcff14e1f"
      },
      "source": [
        "ob = objectfuc(a,b,h)\n",
        "print(ob)\n",
        "obj = [ob for ob in a]\n",
        "plt.plot(obj,'k',marker='.')\n",
        "plt.legend()\n",
        "plt.show()"
      ],
      "execution_count": 125,
      "outputs": [
        {
          "output_type": "stream",
          "text": [
            "/usr/local/lib/python3.6/dist-packages/ipykernel_launcher.py:4: RuntimeWarning: overflow encountered in square\n",
            "  after removing the cwd from sys.path.\n",
            "No handles with labels found to put in legend.\n"
          ],
          "name": "stderr"
        },
        {
          "output_type": "stream",
          "text": [
            "inf\n"
          ],
          "name": "stdout"
        },
        {
          "output_type": "display_data",
          "data": {
            "image/png": "[encoded data removed]",
            "text/plain": [
              "<Figure size 432x288 with 1 Axes>"
            ]
          },
          "metadata": {
            "tags": []
          }
        }
      ]
    },
    {
      "cell_type": "code",
      "metadata": {
        "id": "Hoz4e96R0RMH",
        "colab_type": "code",
        "colab": {}
      },
      "source": [
        ""
      ],
      "execution_count": 0,
      "outputs": []
    },
    {
      "cell_type": "code",
      "metadata": {
        "id": "XtNBBVJ60ROu",
        "colab_type": "code",
        "colab": {}
      },
      "source": [
        ""
      ],
      "execution_count": 0,
      "outputs": []
    },
    {
      "cell_type": "code",
      "metadata": {
        "id": "IbXjZe0K0RRq",
        "colab_type": "code",
        "colab": {}
      },
      "source": [
        ""
      ],
      "execution_count": 0,
      "outputs": []
    },
    {
      "cell_type": "code",
      "metadata": {
        "id": "Xmpyq4jX0RUW",
        "colab_type": "code",
        "colab": {}
      },
      "source": [
        ""
      ],
      "execution_count": 0,
      "outputs": []
    },
    {
      "cell_type": "code",
      "metadata": {
        "id": "k_ILZ63h0RZw",
        "colab_type": "code",
        "colab": {}
      },
      "source": [
        ""
      ],
      "execution_count": 0,
      "outputs": []
    },
    {
      "cell_type": "markdown",
      "metadata": {
        "id": "MJ0VzvsIzdEy",
        "colab_type": "text"
      },
      "source": [
        "Gradient Decent정의"
      ]
    },
    {
      "cell_type": "code",
      "metadata": {
        "id": "kuf-yPxMRmDI",
        "colab_type": "code",
        "colab": {}
      },
      "source": [
        "def GradientD(a,b,theta,alpha,front):\n",
        "  mulw = hypoth(theta[0],theta[1],a)\n",
        "  repeat = 1 / len(a)\n",
        "  decrease = mulw - b\n",
        "  if front == 0:\n",
        "    sigma = np.sum(decrease) * repeat\n",
        "    theta[0] = theta[0] - alpha * sigma\n",
        "    return theta[0]\n",
        "  elif front == 1:\n",
        "    differential = decrease * a\n",
        "    sigma = np.sum(differential) * repeat\n",
        "    theta[1] = theta[1] - alpha * sigma\n",
        "    return theta[1]"
      ],
      "execution_count": 0,
      "outputs": []
    },
    {
      "cell_type": "code",
      "metadata": {
        "id": "kwAO6q28OdBz",
        "colab_type": "code",
        "outputId": "db12ce7a-1503-482a-f0e9-1841c09b8e12",
        "colab": {
          "base_uri": "https://localhost:8080/",
          "height": 276
        }
      },
      "source": [
        "for i in range(0,3000):\n",
        "  theta[0] = GradientD(a,b,theta,0.1,0)\n",
        "  theta[1] = GradientD(a,b,theta,0.1,1)\n",
        "  h = hypoth(theta[1],theta[0],a)\n",
        "  plt.plot(h,'k.')\n",
        "\n",
        "\n",
        "\n",
        "# h = hypoth(theta[1],theta[0],a)\n",
        "# plt.plot(h,'k.')"
      ],
      "execution_count": 109,
      "outputs": [
        {
          "output_type": "display_data",
          "data": {
            "image/png": "[encoded data removed]",
            "text/plain": [
              "<Figure size 432x288 with 1 Axes>"
            ]
          },
          "metadata": {
            "tags": []
          }
        }
      ]
    },
    {
      "cell_type": "code",
      "metadata": {
        "id": "BgXcMiQERtjh",
        "colab_type": "code",
        "colab": {}
      },
      "source": [
        ""
      ],
      "execution_count": 0,
      "outputs": []
    }
  ]
}