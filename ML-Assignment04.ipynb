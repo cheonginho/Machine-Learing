{
 "cells": [
  {
   "cell_type": "markdown",
   "metadata": {},
   "source": [
    "### Plotting the estimated parameters"
   ]
  },
  {
   "cell_type": "code",
   "execution_count": 15,
   "metadata": {},
   "outputs": [],
   "source": [
    "import numpy as np\n",
    "import pandas as pd\n",
    "import matplotlib.pyplot as plt"
   ]
  },
  {
   "cell_type": "code",
   "execution_count": 16,
   "metadata": {},
   "outputs": [],
   "source": [
    "train = pd.read_csv('data_train.csv',names=['A','B','C','D'])\n",
    "test = pd.read_csv('data_test.csv',names=['A','B','C','D'])"
   ]
  },
  {
   "cell_type": "code",
   "execution_count": 108,
   "metadata": {},
   "outputs": [],
   "source": [
    "x=train['A']\n",
    "y=train['B']\n",
    "z=train['C']\n",
    "h=train['D']\n",
    "\n",
    "x_t=test['A']\n",
    "y_t=test['B']\n",
    "\n",
    "z_t=test['C']\n",
    "h_t=test['D']\n",
    "\n",
    "x = (x-x.mean()) / x.std()\n",
    "y = (y-y.mean()) / y.std()\n",
    "z = (z-z.mean()) / z.std()\n",
    "h = (z-z.mean()) / h.std()\n",
    "\n",
    "\n",
    "x_t = (x_t-x_t.mean()) / x_t.std()\n",
    "y_t = (y_t-y_t.mean()) / y_t.std()\n",
    "z_t = (z_t-z_t.mean()) / z_t.std()\n",
    "h_t = (z_t-z_t.mean()) / h_t.std()\n",
    "\n",
    "train_matrix = np.c_[np.ones(h.shape[0]),x,y,z]\n",
    "test_matrix = np.c_[np.ones(h_t.shape[0]),x_t,y_t,z_t]\n",
    "\n",
    "\n",
    "# train_matrix = np.c_[np.ones(x.shape[0]),x,y,z]"
   ]
  },
  {
   "cell_type": "code",
   "execution_count": 129,
   "metadata": {},
   "outputs": [],
   "source": [
    "alpha = 0.001\n",
    "iteration = 5000\n",
    "m = h.size\n",
    "np.random.seed(101)\n",
    "theta = np.random.rand(4)"
   ]
  },
  {
   "cell_type": "code",
   "execution_count": 162,
   "metadata": {},
   "outputs": [],
   "source": [
    "def gradient_descent(matrix,h,theta,iterations,alpha):\n",
    "    cost_history=[]\n",
    "    theta_history=[theta]\n",
    "    for i in range(iterations):\n",
    "        predict= np.dot(matrix,theta)\n",
    "        loss = predict - h\n",
    "        cost_function = 1/(2*m) * np.dot(loss.T,loss)\n",
    "        cost_history.append(cost_function)\n",
    "        theta = theta - (alpha*(1/m)*np.dot(matrix.T,loss))\n",
    "        theta_history.append(theta)\n",
    "    return theta_history,cost_history \n",
    "\n",
    "theta_history,cost_history=gradient_descent(train_matrix,h,theta,iteration,alpha)\n",
    "\n",
    "theta_history_t,cost_history_t = gradient_descent(test_matrix,h_t,theta,iteration,alpha)\n"
   ]
  },
  {
   "cell_type": "code",
   "execution_count": 163,
   "metadata": {},
   "outputs": [],
   "source": [
    "theta0 =[]\n",
    "theta1 =[]\n",
    "theta2 =[]\n",
    "theta3 =[]\n",
    "for i in range(iteration):\n",
    "    theta0.append(theta_history[i][0])\n",
    "    theta1.append(theta_history[i][1])\n",
    "    theta2.append(theta_history[i][2])\n",
    "    theta3.append(theta_history[i][3])\n"
   ]
  },
  {
   "cell_type": "code",
   "execution_count": 164,
   "metadata": {},
   "outputs": [
    {
     "data": {
      "image/png": "[encoded data removed]",
      "text/plain": [
       "<Figure size 432x288 with 1 Axes>"
      ]
     },
     "metadata": {
      "needs_background": "light"
     },
     "output_type": "display_data"
    }
   ],
   "source": [
    "plt.ylabel('theta')\n",
    "plt.xlabel('No.iteration')\n",
    "plt.plot(theta0,c='k')\n",
    "plt.plot(theta1,c='r')\n",
    "plt.plot(theta2,c='g')\n",
    "plt.plot(theta3,c='b')\n",
    "plt.show()"
   ]
  },
  {
   "cell_type": "code",
   "execution_count": null,
   "metadata": {},
   "outputs": [],
   "source": []
  }
 ],
 "metadata": {
  "kernelspec": {
   "display_name": "Python 3",
   "language": "python",
   "name": "python3"
  },
  "language_info": {
   "codemirror_mode": {
    "name": "ipython",
    "version": 3
   },
   "file_extension": ".py",
   "mimetype": "text/x-python",
   "name": "python",
   "nbconvert_exporter": "python",
   "pygments_lexer": "ipython3",
   "version": "3.7.4"
  }
 },
 "nbformat": 4,
 "nbformat_minor": 2
}
